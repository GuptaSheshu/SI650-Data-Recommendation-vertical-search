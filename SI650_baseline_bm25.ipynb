{
  "nbformat": 4,
  "nbformat_minor": 0,
  "metadata": {
    "colab": {
      "provenance": []
    },
    "kernelspec": {
      "name": "python3",
      "display_name": "Python 3"
    },
    "language_info": {
      "name": "python"
    }
  },
  "cells": [
    {
      "cell_type": "code",
      "execution_count": null,
      "metadata": {
        "colab": {
          "base_uri": "https://localhost:8080/"
        },
        "id": "tzG-VvrJ0ooA",
        "outputId": "66135073-fab1-463a-c975-51d833f5d36d"
      },
      "outputs": [
        {
          "output_type": "stream",
          "name": "stdout",
          "text": [
            "Looking in indexes: https://pypi.org/simple, https://us-python.pkg.dev/colab-wheels/public/simple/\n",
            "Collecting python-terrier\n",
            "  Downloading python-terrier-0.9.1.tar.gz (102 kB)\n",
            "\u001b[K     |████████████████████████████████| 102 kB 6.1 MB/s \n",
            "\u001b[?25hRequirement already satisfied: numpy in /usr/local/lib/python3.7/dist-packages (from python-terrier) (1.21.6)\n",
            "Requirement already satisfied: pandas in /usr/local/lib/python3.7/dist-packages (from python-terrier) (1.3.5)\n",
            "Collecting wget\n",
            "  Downloading wget-3.2.zip (10 kB)\n",
            "Requirement already satisfied: tqdm in /usr/local/lib/python3.7/dist-packages (from python-terrier) (4.64.1)\n",
            "Collecting pyjnius>=1.4.2\n",
            "  Downloading pyjnius-1.4.2-cp37-cp37m-manylinux_2_17_x86_64.manylinux2014_x86_64.whl (1.3 MB)\n",
            "\u001b[K     |████████████████████████████████| 1.3 MB 31.2 MB/s \n",
            "\u001b[?25hCollecting matchpy\n",
            "  Downloading matchpy-0.5.5-py3-none-any.whl (69 kB)\n",
            "\u001b[K     |████████████████████████████████| 69 kB 6.7 MB/s \n",
            "\u001b[?25hCollecting sklearn\n",
            "  Downloading sklearn-0.0.post1.tar.gz (3.6 kB)\n",
            "Collecting deprecated\n",
            "  Downloading Deprecated-1.2.13-py2.py3-none-any.whl (9.6 kB)\n",
            "Collecting chest\n",
            "  Downloading chest-0.2.3.tar.gz (9.6 kB)\n",
            "Requirement already satisfied: scipy in /usr/local/lib/python3.7/dist-packages (from python-terrier) (1.7.3)\n",
            "Requirement already satisfied: requests in /usr/local/lib/python3.7/dist-packages (from python-terrier) (2.23.0)\n",
            "Requirement already satisfied: joblib in /usr/local/lib/python3.7/dist-packages (from python-terrier) (1.2.0)\n",
            "Collecting nptyping==1.4.4\n",
            "  Downloading nptyping-1.4.4-py3-none-any.whl (31 kB)\n",
            "Requirement already satisfied: more_itertools in /usr/local/lib/python3.7/dist-packages (from python-terrier) (9.0.0)\n",
            "Collecting ir_datasets>=0.3.2\n",
            "  Downloading ir_datasets-0.5.4-py3-none-any.whl (311 kB)\n",
            "\u001b[K     |████████████████████████████████| 311 kB 62.5 MB/s \n",
            "\u001b[?25hRequirement already satisfied: jinja2 in /usr/local/lib/python3.7/dist-packages (from python-terrier) (2.11.3)\n",
            "Requirement already satisfied: statsmodels in /usr/local/lib/python3.7/dist-packages (from python-terrier) (0.12.2)\n",
            "Collecting ir_measures>=0.3.1\n",
            "  Downloading ir_measures-0.3.1.tar.gz (46 kB)\n",
            "\u001b[K     |████████████████████████████████| 46 kB 4.4 MB/s \n",
            "\u001b[?25hRequirement already satisfied: dill in /usr/local/lib/python3.7/dist-packages (from python-terrier) (0.3.6)\n",
            "Collecting pytrec_eval_terrier>=0.5.3\n",
            "  Downloading pytrec_eval_terrier-0.5.5-cp37-cp37m-manylinux_2_17_x86_64.manylinux2014_x86_64.whl (286 kB)\n",
            "\u001b[K     |████████████████████████████████| 286 kB 55.0 MB/s \n",
            "\u001b[?25hCollecting typish>=1.7.0\n",
            "  Downloading typish-1.9.3-py3-none-any.whl (45 kB)\n",
            "\u001b[K     |████████████████████████████████| 45 kB 3.2 MB/s \n",
            "\u001b[?25hCollecting warc3-wet>=0.2.3\n",
            "  Downloading warc3_wet-0.2.3-py3-none-any.whl (13 kB)\n",
            "Collecting lz4>=3.1.1\n",
            "  Downloading lz4-4.0.2-cp37-cp37m-manylinux_2_17_x86_64.manylinux2014_x86_64.whl (1.2 MB)\n",
            "\u001b[K     |████████████████████████████████| 1.2 MB 48.0 MB/s \n",
            "\u001b[?25hRequirement already satisfied: lxml>=4.5.2 in /usr/local/lib/python3.7/dist-packages (from ir_datasets>=0.3.2->python-terrier) (4.9.1)\n",
            "Collecting unlzw3>=0.2.1\n",
            "  Downloading unlzw3-0.2.1.tar.gz (5.8 kB)\n",
            "  Installing build dependencies ... \u001b[?25l\u001b[?25hdone\n",
            "  Getting requirements to build wheel ... \u001b[?25l\u001b[?25hdone\n",
            "    Preparing wheel metadata ... \u001b[?25l\u001b[?25hdone\n",
            "Collecting ijson>=3.1.3\n",
            "  Downloading ijson-3.1.4-cp37-cp37m-manylinux2010_x86_64.whl (126 kB)\n",
            "\u001b[K     |████████████████████████████████| 126 kB 57.2 MB/s \n",
            "\u001b[?25hRequirement already satisfied: pyyaml>=5.3.1 in /usr/local/lib/python3.7/dist-packages (from ir_datasets>=0.3.2->python-terrier) (6.0)\n",
            "Collecting trec-car-tools>=2.5.4\n",
            "  Downloading trec_car_tools-2.6-py3-none-any.whl (8.4 kB)\n",
            "Collecting zlib-state>=0.1.3\n",
            "  Downloading zlib_state-0.1.5-cp37-cp37m-manylinux2010_x86_64.whl (72 kB)\n",
            "\u001b[K     |████████████████████████████████| 72 kB 1.6 MB/s \n",
            "\u001b[?25hCollecting warc3-wet-clueweb09>=0.2.5\n",
            "  Downloading warc3-wet-clueweb09-0.2.5.tar.gz (17 kB)\n",
            "Requirement already satisfied: beautifulsoup4>=4.4.1 in /usr/local/lib/python3.7/dist-packages (from ir_datasets>=0.3.2->python-terrier) (4.6.3)\n",
            "Collecting pyautocorpus>=0.1.1\n",
            "  Downloading pyautocorpus-0.1.9-cp37-cp37m-manylinux_2_12_x86_64.manylinux2010_x86_64.whl (294 kB)\n",
            "\u001b[K     |████████████████████████████████| 294 kB 43.8 MB/s \n",
            "\u001b[?25hCollecting cwl-eval>=1.0.10\n",
            "  Downloading cwl-eval-1.0.12.tar.gz (31 kB)\n",
            "Requirement already satisfied: six>=1.7.0 in /usr/local/lib/python3.7/dist-packages (from pyjnius>=1.4.2->python-terrier) (1.15.0)\n",
            "Requirement already satisfied: certifi>=2017.4.17 in /usr/local/lib/python3.7/dist-packages (from requests->python-terrier) (2022.9.24)\n",
            "Requirement already satisfied: idna<3,>=2.5 in /usr/local/lib/python3.7/dist-packages (from requests->python-terrier) (2.10)\n",
            "Requirement already satisfied: chardet<4,>=3.0.2 in /usr/local/lib/python3.7/dist-packages (from requests->python-terrier) (3.0.4)\n",
            "Requirement already satisfied: urllib3!=1.25.0,!=1.25.1,<1.26,>=1.21.1 in /usr/local/lib/python3.7/dist-packages (from requests->python-terrier) (1.24.3)\n",
            "Collecting cbor>=1.0.0\n",
            "  Downloading cbor-1.0.0.tar.gz (20 kB)\n",
            "Requirement already satisfied: heapdict in /usr/local/lib/python3.7/dist-packages (from chest->python-terrier) (1.0.1)\n",
            "Requirement already satisfied: wrapt<2,>=1.10 in /usr/local/lib/python3.7/dist-packages (from deprecated->python-terrier) (1.14.1)\n",
            "Requirement already satisfied: MarkupSafe>=0.23 in /usr/local/lib/python3.7/dist-packages (from jinja2->python-terrier) (2.0.1)\n",
            "Collecting multiset<3.0,>=2.0\n",
            "  Downloading multiset-2.1.1-py2.py3-none-any.whl (8.8 kB)\n",
            "Requirement already satisfied: python-dateutil>=2.7.3 in /usr/local/lib/python3.7/dist-packages (from pandas->python-terrier) (2.8.2)\n",
            "Requirement already satisfied: pytz>=2017.3 in /usr/local/lib/python3.7/dist-packages (from pandas->python-terrier) (2022.6)\n",
            "Requirement already satisfied: patsy>=0.5 in /usr/local/lib/python3.7/dist-packages (from statsmodels->python-terrier) (0.5.3)\n",
            "Building wheels for collected packages: python-terrier, ir-measures, cwl-eval, cbor, unlzw3, warc3-wet-clueweb09, chest, sklearn, wget\n",
            "  Building wheel for python-terrier (setup.py) ... \u001b[?25l\u001b[?25hdone\n",
            "  Created wheel for python-terrier: filename=python_terrier-0.9.1-py3-none-any.whl size=110767 sha256=8c44793ca0f278917cefc2c0a682c0cdee25336f043f114319cceaf2ec9b4636\n",
            "  Stored in directory: /root/.cache/pip/wheels/a5/e2/45/ed1f2652af18e80c281ec10fbf4998c49c84fd7385518bf6a5\n",
            "  Building wheel for ir-measures (setup.py) ... \u001b[?25l\u001b[?25hdone\n",
            "  Created wheel for ir-measures: filename=ir_measures-0.3.1-py3-none-any.whl size=60193 sha256=e7193e41aa39b4711f126671d54c7066768a872d8fe20aaf376e82530e7115f4\n",
            "  Stored in directory: /root/.cache/pip/wheels/17/86/a6/8b9c92080cdc19346721307878315c19430fb4705716a5676a\n",
            "  Building wheel for cwl-eval (setup.py) ... \u001b[?25l\u001b[?25hdone\n",
            "  Created wheel for cwl-eval: filename=cwl_eval-1.0.12-py3-none-any.whl size=38085 sha256=667470442b3edbd4650cafaadca6357d3475218ae5cbbdb821b9ddf54ba8541d\n",
            "  Stored in directory: /root/.cache/pip/wheels/5c/09/32/5e203c9c2ec3d82b7ffa30a8bff17df266d397441e62d1d43e\n",
            "  Building wheel for cbor (setup.py) ... \u001b[?25l\u001b[?25hdone\n",
            "  Created wheel for cbor: filename=cbor-1.0.0-cp37-cp37m-linux_x86_64.whl size=51302 sha256=921382b6c939b78300573f3e6d8526d88424b60d6cfe0331fb4da8883435a149\n",
            "  Stored in directory: /root/.cache/pip/wheels/19/77/49/c9c2c8dc5848502e606e8579d0bbda18b850fb056a6c62239d\n",
            "  Building wheel for unlzw3 (PEP 517) ... \u001b[?25l\u001b[?25hdone\n",
            "  Created wheel for unlzw3: filename=unlzw3-0.2.1-py3-none-any.whl size=6082 sha256=0b83c10fd5da68908c4a656e640817c05893af422c1814aef218fef398ce2a7f\n",
            "  Stored in directory: /root/.cache/pip/wheels/e1/3c/d9/e33962c8aad8999dc5560b6e71baafa2335c269f532f5e176a\n",
            "  Building wheel for warc3-wet-clueweb09 (setup.py) ... \u001b[?25l\u001b[?25hdone\n",
            "  Created wheel for warc3-wet-clueweb09: filename=warc3_wet_clueweb09-0.2.5-py3-none-any.whl size=18922 sha256=81c52daef292000a2a112e9eff74961d09ed709918058155a998b14dc6be57e2\n",
            "  Stored in directory: /root/.cache/pip/wheels/42/d4/3c/7c2b0c3d400ad744e4db69f2fde166655da2ed2198bfc02db6\n",
            "  Building wheel for chest (setup.py) ... \u001b[?25l\u001b[?25hdone\n",
            "  Created wheel for chest: filename=chest-0.2.3-py3-none-any.whl size=7633 sha256=6340e8133edd2661e1c0f52796a20171e6e0e19afda98b68fe3b66711895296e\n",
            "  Stored in directory: /root/.cache/pip/wheels/fc/f5/b9/c436e11300809e6b40d46a5d2592fb0bff89e0712f2e878dc7\n",
            "  Building wheel for sklearn (setup.py) ... \u001b[?25l\u001b[?25hdone\n",
            "  Created wheel for sklearn: filename=sklearn-0.0.post1-py3-none-any.whl size=2344 sha256=770816287c4c320b3944a1b295a5595b953401e28ef2a0846ffefee68821817f\n",
            "  Stored in directory: /root/.cache/pip/wheels/42/56/cc/4a8bf86613aafd5b7f1b310477667c1fca5c51c3ae4124a003\n",
            "  Building wheel for wget (setup.py) ... \u001b[?25l\u001b[?25hdone\n",
            "  Created wheel for wget: filename=wget-3.2-py3-none-any.whl size=9675 sha256=3a8c81ecd091f889bf7e82213831d9792e58e37872061f0ff88f97566fde571b\n",
            "  Stored in directory: /root/.cache/pip/wheels/a1/b6/7c/0e63e34eb06634181c63adacca38b79ff8f35c37e3c13e3c02\n",
            "Successfully built python-terrier ir-measures cwl-eval cbor unlzw3 warc3-wet-clueweb09 chest sklearn wget\n",
            "Installing collected packages: cbor, zlib-state, warc3-wet-clueweb09, warc3-wet, unlzw3, typish, trec-car-tools, pytrec-eval-terrier, pyautocorpus, multiset, lz4, ijson, cwl-eval, wget, sklearn, pyjnius, nptyping, matchpy, ir-measures, ir-datasets, deprecated, chest, python-terrier\n",
            "Successfully installed cbor-1.0.0 chest-0.2.3 cwl-eval-1.0.12 deprecated-1.2.13 ijson-3.1.4 ir-datasets-0.5.4 ir-measures-0.3.1 lz4-4.0.2 matchpy-0.5.5 multiset-2.1.1 nptyping-1.4.4 pyautocorpus-0.1.9 pyjnius-1.4.2 python-terrier-0.9.1 pytrec-eval-terrier-0.5.5 sklearn-0.0.post1 trec-car-tools-2.6 typish-1.9.3 unlzw3-0.2.1 warc3-wet-0.2.3 warc3-wet-clueweb09-0.2.5 wget-3.2 zlib-state-0.1.5\n"
          ]
        }
      ],
      "source": [
        "!pip install python-terrier"
      ]
    },
    {
      "cell_type": "code",
      "source": [
        "import pandas as pd\n",
        "# Helpful for showing indexing information\n",
        "pd.set_option('display.max_colwidth', 150)\n",
        "\n",
        "import pyterrier as pt\n",
        "import os\n",
        "import random\n",
        "import numpy as np\n",
        "from sklearn.metrics import ndcg_score"
      ],
      "metadata": {
        "id": "4sezepTs04fr"
      },
      "execution_count": null,
      "outputs": []
    },
    {
      "cell_type": "code",
      "source": [
        "if not pt.started():\n",
        "    pt.init()"
      ],
      "metadata": {
        "colab": {
          "base_uri": "https://localhost:8080/"
        },
        "id": "7JYmfSZQ07qv",
        "outputId": "c6e774ce-518b-4ae8-b4f9-cfb8fad0e660"
      },
      "execution_count": null,
      "outputs": [
        {
          "output_type": "stream",
          "name": "stdout",
          "text": [
            "terrier-assemblies 5.7 jar-with-dependencies not found, downloading to /root/.pyterrier...\n",
            "Done\n",
            "terrier-python-helper 0.0.7 jar not found, downloading to /root/.pyterrier...\n",
            "Done\n"
          ]
        },
        {
          "output_type": "stream",
          "name": "stderr",
          "text": [
            "PyTerrier 0.9.1 has loaded Terrier 5.7 (built by craigm on 2022-11-10 18:30) and terrier-helper 0.0.7\n",
            "\n"
          ]
        }
      ]
    },
    {
      "cell_type": "code",
      "source": [
        "qrels = pd.read_csv('final_results_references - final_results_references.csv', usecols=[\"qid\", \"docno\", \"Relevance (1-5)\"], header=0)\n",
        "print(qrels.head(4))\n",
        "qrels.columns = ['qid', 'docno', 'label'] \n",
        "# qrels['label'] = qrels['label'].replace([1, 2], 0)\n",
        "# qrels['label'] = qrels['label'].replace([3, 4, 5], 1)\n",
        "\n",
        "qrels['qid']=qrels['qid'].values.astype(str)\n",
        "print(qrels.info())\n",
        "# df.name(columns={'qid': 'query-id', 'docno': 'corpus-id', \"Relevance (1-5)\": \"score\"}, inplace=True)\n",
        "print(qrels.head(4))"
      ],
      "metadata": {
        "colab": {
          "base_uri": "https://localhost:8080/"
        },
        "id": "YboAnCOl0_jW",
        "outputId": "53522097-5a4c-4af7-a499-12337a43af81"
      },
      "execution_count": null,
      "outputs": [
        {
          "output_type": "stream",
          "name": "stdout",
          "text": [
            "   qid  docno  Relevance (1-5)\n",
            "0    1  d1082                1\n",
            "1    1  d1093                3\n",
            "2    1  d1112                1\n",
            "3    1  d1115                3\n",
            "<class 'pandas.core.frame.DataFrame'>\n",
            "RangeIndex: 3297 entries, 0 to 3296\n",
            "Data columns (total 3 columns):\n",
            " #   Column  Non-Null Count  Dtype \n",
            "---  ------  --------------  ----- \n",
            " 0   qid     3297 non-null   object\n",
            " 1   docno   3297 non-null   object\n",
            " 2   label   3297 non-null   int64 \n",
            "dtypes: int64(1), object(2)\n",
            "memory usage: 77.4+ KB\n",
            "None\n",
            "  qid  docno  label\n",
            "0   1  d1082      1\n",
            "1   1  d1093      3\n",
            "2   1  d1112      1\n",
            "3   1  d1115      3\n"
          ]
        }
      ]
    },
    {
      "cell_type": "code",
      "source": [
        "qrels_rand = pd.read_csv('final_results_references - final_results_references.csv', usecols=[\"qid\", \"docno\", \"Relevance (1-5)\"], header=0)\n",
        "# print(qrels.head(4))\n",
        "qrels_rand['naive_predicted'] = [ random.randint(1,5)  for k in qrels_rand.index]\n",
        "qrels_rand.columns = ['qid', 'docno', 'true_score', 'naive_predicted'] \n",
        "print(qrels_rand.head(20))"
      ],
      "metadata": {
        "id": "SeqLtMH584o5",
        "colab": {
          "base_uri": "https://localhost:8080/"
        },
        "outputId": "09da43a1-2e21-42f6-fc09-183cd4c960a8"
      },
      "execution_count": null,
      "outputs": [
        {
          "output_type": "stream",
          "name": "stdout",
          "text": [
            "    qid  docno  true_score  naive_predicted\n",
            "0     1  d1082           1                5\n",
            "1     1  d1093           3                1\n",
            "2     1  d1112           1                5\n",
            "3     1  d1115           3                4\n",
            "4     1  d1200           1                2\n",
            "5     1  d1874           1                1\n",
            "6     1  d2005           1                1\n",
            "7     1   d209           1                4\n",
            "8     1   d210           1                5\n",
            "9     1   d218           1                1\n",
            "10    1   d236           1                1\n",
            "11    1  d2485           5                3\n",
            "12    1  d2494           2                5\n",
            "13    1   d284           1                1\n",
            "14    1   d286           1                5\n",
            "15    1   d311           1                4\n",
            "16    1   d354           3                3\n",
            "17    1   d379           2                3\n",
            "18    1   d396           1                1\n",
            "19    1   d424           1                4\n"
          ]
        }
      ]
    },
    {
      "cell_type": "code",
      "source": [
        "df = pd.read_csv('scrapped_amazon_general_queries_data.csv', usecols=[\"productTitle\", \"productDescription\", \"URL\"], delimiter=';', header=0)\n",
        "df['docno'] = 'd' + (df.reset_index().index).astype(str)\n",
        "# df.columns = [\"productTitle\", \"productDescription\", \"docno\"] \n",
        "df['text'] = df[['productTitle', 'productDescription']].apply(lambda x: ' '.join(x[x.notnull()]), axis = 1)\n",
        "print(df.head(5))"
      ],
      "metadata": {
        "colab": {
          "base_uri": "https://localhost:8080/"
        },
        "id": "RzLSZGKc28eQ",
        "outputId": "f499f803-a02d-4681-8f18-28a00b9b56bc"
      },
      "execution_count": null,
      "outputs": [
        {
          "output_type": "stream",
          "name": "stdout",
          "text": [
            "                                                                                                                                        productTitle  \\\n",
            "0                        Maybelline Hyper Easy Liquid Pen No-Skip Eyeliner Satin Finish Waterproof Formula Eye Liner Makeup Pitch Black 0.018 Fl; Oz   \n",
            "1                         L'Oreal Paris Makeup Infallible Never Fail Original Mechanical Pencil Eyeliner with Built in Sharpener Black Brown 2 Count   \n",
            "2  L'Oreal Paris L’Oreal Paris Makeup Infallible Grip Precision Felt Eyeliner Smudge Resistant Long Lasting Waterproof Eyeliner Grey Grey 0.03 fl oz   \n",
            "3                                                                                             HotDeal Lakme Insta Deep Intensee Black Eye Liner 9 ml   \n",
            "4                                                                                                      Lakme Insta Deep Intense Black Eye Liner 9 ml   \n",
            "\n",
            "                                                                                                                                      productDescription  \\\n",
            "0  Introducing the liquid liner minus the skips, slips, gaps and struggle. Liquid liner goes hyper easy. With its hyper easy brush tip, It delivers t...   \n",
            "1  Create classic to bold eye designs with Infallible Never Fail Mechanical Eyeliner. The rich and creamy formula glides on easily and evenly for fad...   \n",
            "2  Up to 30HR wear. Easy Application. Waterproof, smudge-resistant. Define and line your eyes with vibrant color that lasts. L’Oreal Paris’s Infallib...   \n",
            "3  The Insta Liner by Lakme is a liquid eyeliner that gives your eyes perfect definition, with a long-lasting and smudge-proof formula. Benefits * Li...   \n",
            "4  The Insta Liner by Lakme is a liquid eyeliner that gives your eyes perfect definition, with a long-lasting and smudge-proof formula. Benefits * Li...   \n",
            "\n",
            "                                                                                                                                                     URL  \\\n",
            "0  https://www.amazon.com/sspa/click?ie=UTF8&spc=MTo4Njc0NTY2NDIwNTUyNDA1OjE2Njc5NDYyNzU6c3BfYXRmOjIwMDAzMDExNTQwNDYyMTo6MDo6&sp_csd=d2lkZ2V0TmFtZT1z...   \n",
            "1  https://www.amazon.com/sspa/click?ie=UTF8&spc=MTo4Njc0NTY2NDIwNTUyNDA1OjE2Njc5NDYyNzU6c3BfYXRmOjIwMDAyMjEwNDg2NzY4MTo6MDo6&sp_csd=d2lkZ2V0TmFtZT1z...   \n",
            "2  https://www.amazon.com/sspa/click?ie=UTF8&spc=MTo4Njc0NTY2NDIwNTUyNDA1OjE2Njc5NDYyNzU6c3BfYXRmOjIwMDA2Mjk3NzE0ODY5ODo6MDo6&sp_csd=d2lkZ2V0TmFtZT1z...   \n",
            "3  https://www.amazon.com/HotDeal-Lakme-Insta-Intensee-Black/dp/B09VPX3DZB/ref=sr_1_4?crid=3MFUSBY30FHA4&keywords=lakme+eyeliner&qid=1667946275&spref...   \n",
            "4  https://www.amazon.com/Lakme-Insta-Intense-Black-Liner/dp/B09TRGCMNJ/ref=sr_1_5?crid=3MFUSBY30FHA4&keywords=lakme+eyeliner&qid=1667946275&sprefix=...   \n",
            "\n",
            "  docno  \\\n",
            "0    d0   \n",
            "1    d1   \n",
            "2    d2   \n",
            "3    d3   \n",
            "4    d4   \n",
            "\n",
            "                                                                                                                                                    text  \n",
            "0  Maybelline Hyper Easy Liquid Pen No-Skip Eyeliner Satin Finish Waterproof Formula Eye Liner Makeup Pitch Black 0.018 Fl; Oz Introducing the liquid...  \n",
            "1  L'Oreal Paris Makeup Infallible Never Fail Original Mechanical Pencil Eyeliner with Built in Sharpener Black Brown 2 Count Create classic to bold ...  \n",
            "2  L'Oreal Paris L’Oreal Paris Makeup Infallible Grip Precision Felt Eyeliner Smudge Resistant Long Lasting Waterproof Eyeliner Grey Grey 0.03 fl oz ...  \n",
            "3  HotDeal Lakme Insta Deep Intensee Black Eye Liner 9 ml The Insta Liner by Lakme is a liquid eyeliner that gives your eyes perfect definition, with...  \n",
            "4  Lakme Insta Deep Intense Black Eye Liner 9 ml The Insta Liner by Lakme is a liquid eyeliner that gives your eyes perfect definition, with a long-l...  \n"
          ]
        }
      ]
    },
    {
      "cell_type": "code",
      "source": [
        "index_dir = os.path.abspath('amazonindex')\n",
        "indexer = pt.DFIndexer(index_dir, overwrite=True)\n",
        "index_ref = indexer.index(df[\"text\"], df[\"docno\"], )\n",
        "index_ref.toString()"
      ],
      "metadata": {
        "colab": {
          "base_uri": "https://localhost:8080/",
          "height": 90
        },
        "id": "2x--xC9-4qnj",
        "outputId": "8c90fd2d-7fe2-4d85-ff64-380a4929837f"
      },
      "execution_count": null,
      "outputs": [
        {
          "output_type": "stream",
          "name": "stdout",
          "text": [
            "04:27:36.880 [main] WARN org.terrier.structures.indexing.Indexer - Adding an empty document to the index (d181) - further warnings are suppressed\n",
            "04:27:39.585 [main] WARN org.terrier.structures.indexing.Indexer - Indexed 2392 empty documents\n"
          ]
        },
        {
          "output_type": "execute_result",
          "data": {
            "text/plain": [
              "'/content/amazonindex/data.properties'"
            ],
            "application/vnd.google.colaboratory.intrinsic+json": {
              "type": "string"
            }
          },
          "metadata": {},
          "execution_count": 61
        }
      ]
    },
    {
      "cell_type": "code",
      "source": [
        "index = pt.IndexFactory.of(index_ref)"
      ],
      "metadata": {
        "id": "wNH8coJn5XQ6"
      },
      "execution_count": null,
      "outputs": []
    },
    {
      "cell_type": "code",
      "source": [
        "print(index.getCollectionStatistics().toString())"
      ],
      "metadata": {
        "colab": {
          "base_uri": "https://localhost:8080/"
        },
        "id": "3TxT5Oj35ZbU",
        "outputId": "b96d75fb-1193-43ff-e975-aec348293bfe"
      },
      "execution_count": null,
      "outputs": [
        {
          "output_type": "stream",
          "name": "stdout",
          "text": [
            "Number of documents: 2801\n",
            "Number of terms: 2070\n",
            "Number of postings: 9807\n",
            "Number of fields: 0\n",
            "Number of tokens: 12273\n",
            "Field names: []\n",
            "Positions:   false\n",
            "\n"
          ]
        }
      ]
    },
    {
      "cell_type": "code",
      "source": [
        "br_bm25 = pt.BatchRetrieve(index, wmodel=\"BM25\")"
      ],
      "metadata": {
        "id": "qRvoqJK55cBQ"
      },
      "execution_count": null,
      "outputs": []
    },
    {
      "cell_type": "code",
      "source": [
        "qdf = pd.read_csv(\"combined_queries.csv\", usecols=['qid', 'query'], header=0)\n",
        "qdf['qid']=qdf['qid'].values.astype(str)\n",
        "print(qdf.info())\n",
        "print(qdf)"
      ],
      "metadata": {
        "colab": {
          "base_uri": "https://localhost:8080/"
        },
        "id": "CC7TQrWu4bOo",
        "outputId": "fd41e976-7134-4dc3-bb2d-26292b23620a"
      },
      "execution_count": null,
      "outputs": [
        {
          "output_type": "stream",
          "name": "stdout",
          "text": [
            "<class 'pandas.core.frame.DataFrame'>\n",
            "RangeIndex: 60 entries, 0 to 59\n",
            "Data columns (total 2 columns):\n",
            " #   Column  Non-Null Count  Dtype \n",
            "---  ------  --------------  ----- \n",
            " 0   qid     60 non-null     object\n",
            " 1   query   60 non-null     object\n",
            "dtypes: object(2)\n",
            "memory usage: 1.1+ KB\n",
            "None\n",
            "   qid                                        query\n",
            "0    1                       facewash for oily skin\n",
            "1    2                   lip liner and lipstick set\n",
            "2    3                                nude lipstick\n",
            "3    4                        skin care sets & kits\n",
            "4    5                             anti aging serum\n",
            "5    6          vitamin c serum for face dark spots\n",
            "6    7                        bronzer stick contour\n",
            "7    8              mascara black volume and length\n",
            "8    9            primer face makeup pore minimizer\n",
            "9   10     moisturizer with spf for acne prone skin\n",
            "10  11                  sunscreen for face dry skin\n",
            "11  12                              concealer stick\n",
            "12  13                 facewash with salicylic acid\n",
            "13  14                        compact powder makeup\n",
            "14  15    hair mask for dry damaged hair and growth\n",
            "15  16  retinol cream for face with hyaluronic acid\n",
            "16  17                   mascara for sensitive eyes\n",
            "17  18                lip balm for dry cracked lips\n",
            "18  19              anti frizz serum for curly hair\n",
            "19  20                    non toxic nail polish set\n",
            "20  21     shampoo and conditioner set sulfate free\n",
            "21  22             night cream for women anti aging\n",
            "22  23                      cruelty free foundation\n",
            "23  24                                 gel nail kit\n",
            "24  24           paraben and sulfate free hairspray\n",
            "25  25         moisturizer face cream for oily skin\n",
            "26  26           face mask for blackheads and pores\n",
            "27  27                     foundation full coverage\n",
            "28  28               shampoo for color treated hair\n",
            "29  29                           face mask for acne\n",
            "30  30                     conditioner for dry hair\n",
            "31  31                     cruelty free body lotion\n",
            "32  32      shampoo for thinning hair and hair loss\n",
            "33  33                     fragrance free body wash\n",
            "34  35                     body lotion for dry skin\n",
            "35  36                         smudge free eyeliner\n",
            "36  37               moisturiser for sensitive skin\n",
            "37  38                     all skin type foundation\n",
            "38  39                    cruelty free lipstick red\n",
            "39  40                             smudge free kohl\n",
            "40  41                          waterproof lipstick\n",
            "41  42              all in one foundation concealer\n",
            "42  43                 soft nudes eyeshadow palette\n",
            "43  44                           red nailpaints set\n",
            "44  45                      frizzy hair conditioner\n",
            "45  46                        long lasting lipstick\n",
            "46  47             eyebrow pencil set multiple size\n",
            "47  48                        smudge free nailpaint\n",
            "48  49                     highlighting moisturizer\n",
            "49  50                      smoky eyeshadow palette\n",
            "50  51                  best bridal makeup products\n",
            "51  52                bronzer palette for dark skin\n",
            "52  53                          light blush palette\n",
            "53  54                         cruelty free mascara\n",
            "54  55                    mascara eyeliner kohl set\n",
            "55  56                         waterproof eyeshadow\n",
            "56  57                              full makeup set\n",
            "57  58                blush and highlighter palette\n",
            "58  59                   waterproof liquid eyeliner\n",
            "59  60                      matte eyeshadow palette\n"
          ]
        }
      ]
    },
    {
      "cell_type": "code",
      "source": [
        "pt.Experiment(\n",
        "    [br_bm25],\n",
        "    topics=qdf,\n",
        "    qrels=qrels,\n",
        "    eval_metrics=[\"map\", \"ndcg\", \"ndcg_cut_5\", \"ndcg_cut_10\"])"
      ],
      "metadata": {
        "colab": {
          "base_uri": "https://localhost:8080/",
          "height": 81
        },
        "id": "FbmsRu2Y2BYq",
        "outputId": "0272b4dc-86e2-40c0-ca98-bd6cd319e6a7"
      },
      "execution_count": null,
      "outputs": [
        {
          "output_type": "execute_result",
          "data": {
            "text/plain": [
              "       name       map      ndcg  ndcg_cut_5  ndcg_cut_10\n",
              "0  BR(BM25)  0.582998  0.749079    0.735934     0.715005"
            ],
            "text/html": [
              "\n",
              "  <div id=\"df-b14d8ea5-09ae-4e0f-ade6-ce2c085bbf20\">\n",
              "    <div class=\"colab-df-container\">\n",
              "      <div>\n",
              "<style scoped>\n",
              "    .dataframe tbody tr th:only-of-type {\n",
              "        vertical-align: middle;\n",
              "    }\n",
              "\n",
              "    .dataframe tbody tr th {\n",
              "        vertical-align: top;\n",
              "    }\n",
              "\n",
              "    .dataframe thead th {\n",
              "        text-align: right;\n",
              "    }\n",
              "</style>\n",
              "<table border=\"1\" class=\"dataframe\">\n",
              "  <thead>\n",
              "    <tr style=\"text-align: right;\">\n",
              "      <th></th>\n",
              "      <th>name</th>\n",
              "      <th>map</th>\n",
              "      <th>ndcg</th>\n",
              "      <th>ndcg_cut_5</th>\n",
              "      <th>ndcg_cut_10</th>\n",
              "    </tr>\n",
              "  </thead>\n",
              "  <tbody>\n",
              "    <tr>\n",
              "      <th>0</th>\n",
              "      <td>BR(BM25)</td>\n",
              "      <td>0.582998</td>\n",
              "      <td>0.749079</td>\n",
              "      <td>0.735934</td>\n",
              "      <td>0.715005</td>\n",
              "    </tr>\n",
              "  </tbody>\n",
              "</table>\n",
              "</div>\n",
              "      <button class=\"colab-df-convert\" onclick=\"convertToInteractive('df-b14d8ea5-09ae-4e0f-ade6-ce2c085bbf20')\"\n",
              "              title=\"Convert this dataframe to an interactive table.\"\n",
              "              style=\"display:none;\">\n",
              "        \n",
              "  <svg xmlns=\"http://www.w3.org/2000/svg\" height=\"24px\"viewBox=\"0 0 24 24\"\n",
              "       width=\"24px\">\n",
              "    <path d=\"M0 0h24v24H0V0z\" fill=\"none\"/>\n",
              "    <path d=\"M18.56 5.44l.94 2.06.94-2.06 2.06-.94-2.06-.94-.94-2.06-.94 2.06-2.06.94zm-11 1L8.5 8.5l.94-2.06 2.06-.94-2.06-.94L8.5 2.5l-.94 2.06-2.06.94zm10 10l.94 2.06.94-2.06 2.06-.94-2.06-.94-.94-2.06-.94 2.06-2.06.94z\"/><path d=\"M17.41 7.96l-1.37-1.37c-.4-.4-.92-.59-1.43-.59-.52 0-1.04.2-1.43.59L10.3 9.45l-7.72 7.72c-.78.78-.78 2.05 0 2.83L4 21.41c.39.39.9.59 1.41.59.51 0 1.02-.2 1.41-.59l7.78-7.78 2.81-2.81c.8-.78.8-2.07 0-2.86zM5.41 20L4 18.59l7.72-7.72 1.47 1.35L5.41 20z\"/>\n",
              "  </svg>\n",
              "      </button>\n",
              "      \n",
              "  <style>\n",
              "    .colab-df-container {\n",
              "      display:flex;\n",
              "      flex-wrap:wrap;\n",
              "      gap: 12px;\n",
              "    }\n",
              "\n",
              "    .colab-df-convert {\n",
              "      background-color: #E8F0FE;\n",
              "      border: none;\n",
              "      border-radius: 50%;\n",
              "      cursor: pointer;\n",
              "      display: none;\n",
              "      fill: #1967D2;\n",
              "      height: 32px;\n",
              "      padding: 0 0 0 0;\n",
              "      width: 32px;\n",
              "    }\n",
              "\n",
              "    .colab-df-convert:hover {\n",
              "      background-color: #E2EBFA;\n",
              "      box-shadow: 0px 1px 2px rgba(60, 64, 67, 0.3), 0px 1px 3px 1px rgba(60, 64, 67, 0.15);\n",
              "      fill: #174EA6;\n",
              "    }\n",
              "\n",
              "    [theme=dark] .colab-df-convert {\n",
              "      background-color: #3B4455;\n",
              "      fill: #D2E3FC;\n",
              "    }\n",
              "\n",
              "    [theme=dark] .colab-df-convert:hover {\n",
              "      background-color: #434B5C;\n",
              "      box-shadow: 0px 1px 3px 1px rgba(0, 0, 0, 0.15);\n",
              "      filter: drop-shadow(0px 1px 2px rgba(0, 0, 0, 0.3));\n",
              "      fill: #FFFFFF;\n",
              "    }\n",
              "  </style>\n",
              "\n",
              "      <script>\n",
              "        const buttonEl =\n",
              "          document.querySelector('#df-b14d8ea5-09ae-4e0f-ade6-ce2c085bbf20 button.colab-df-convert');\n",
              "        buttonEl.style.display =\n",
              "          google.colab.kernel.accessAllowed ? 'block' : 'none';\n",
              "\n",
              "        async function convertToInteractive(key) {\n",
              "          const element = document.querySelector('#df-b14d8ea5-09ae-4e0f-ade6-ce2c085bbf20');\n",
              "          const dataTable =\n",
              "            await google.colab.kernel.invokeFunction('convertToInteractive',\n",
              "                                                     [key], {});\n",
              "          if (!dataTable) return;\n",
              "\n",
              "          const docLinkHtml = 'Like what you see? Visit the ' +\n",
              "            '<a target=\"_blank\" href=https://colab.research.google.com/notebooks/data_table.ipynb>data table notebook</a>'\n",
              "            + ' to learn more about interactive tables.';\n",
              "          element.innerHTML = '';\n",
              "          dataTable['output_type'] = 'display_data';\n",
              "          await google.colab.output.renderOutput(dataTable, element);\n",
              "          const docLink = document.createElement('div');\n",
              "          docLink.innerHTML = docLinkHtml;\n",
              "          element.appendChild(docLink);\n",
              "        }\n",
              "      </script>\n",
              "    </div>\n",
              "  </div>\n",
              "  "
            ]
          },
          "metadata": {},
          "execution_count": 70
        }
      ]
    },
    {
      "cell_type": "code",
      "source": [
        "true_relevance = np.array(qrels_rand['true_score'])\n",
        "true_relevance = np.array(sorted(true_relevance, reverse=True)).reshape(1,-1)\n",
        "print(true_relevance)\n",
        "# print(true_relevance)\n",
        "scores = np.asarray([qrels_rand['naive_predicted']]).reshape(1,3297)\n",
        "ndcg_score(true_relevance, scores)"
      ],
      "metadata": {
        "colab": {
          "base_uri": "https://localhost:8080/"
        },
        "id": "yAe73uxfCr1i",
        "outputId": "770e483c-c0d3-4bc7-facb-f80e129a541c"
      },
      "execution_count": null,
      "outputs": [
        {
          "output_type": "stream",
          "name": "stdout",
          "text": [
            "[[5 5 5 ... 1 1 1]]\n"
          ]
        },
        {
          "output_type": "execute_result",
          "data": {
            "text/plain": [
              "0.9053605972518237"
            ]
          },
          "metadata": {},
          "execution_count": 106
        }
      ]
    },
    {
      "cell_type": "code",
      "source": [
        "scores.shape"
      ],
      "metadata": {
        "colab": {
          "base_uri": "https://localhost:8080/"
        },
        "id": "FBTN44_iPFGb",
        "outputId": "f61f7d50-79d2-4c85-e771-52507cad6f53"
      },
      "execution_count": null,
      "outputs": [
        {
          "output_type": "execute_result",
          "data": {
            "text/plain": [
              "(1, 3297)"
            ]
          },
          "metadata": {},
          "execution_count": 101
        }
      ]
    },
    {
      "cell_type": "code",
      "source": [
        "np.array(qrels_rand['true_score'])"
      ],
      "metadata": {
        "colab": {
          "base_uri": "https://localhost:8080/"
        },
        "id": "TtuE_w_pOoVN",
        "outputId": "eb030b48-9484-4922-fa4b-1c162af787f3"
      },
      "execution_count": null,
      "outputs": [
        {
          "output_type": "execute_result",
          "data": {
            "text/plain": [
              "array([1, 3, 1, ..., 1, 3, 1])"
            ]
          },
          "metadata": {},
          "execution_count": 87
        }
      ]
    },
    {
      "cell_type": "code",
      "source": [
        "np.isnan(true_relevance)"
      ],
      "metadata": {
        "colab": {
          "base_uri": "https://localhost:8080/",
          "height": 183
        },
        "id": "ZXnfv6LCOVgH",
        "outputId": "937bedb5-8117-490e-b375-a3d2c8615121"
      },
      "execution_count": null,
      "outputs": [
        {
          "output_type": "error",
          "ename": "TypeError",
          "evalue": "ignored",
          "traceback": [
            "\u001b[0;31m---------------------------------------------------------------------------\u001b[0m",
            "\u001b[0;31mTypeError\u001b[0m                                 Traceback (most recent call last)",
            "\u001b[0;32m<ipython-input-82-c2bfc021a6ba>\u001b[0m in \u001b[0;36m<module>\u001b[0;34m\u001b[0m\n\u001b[0;32m----> 1\u001b[0;31m \u001b[0mnp\u001b[0m\u001b[0;34m.\u001b[0m\u001b[0misnan\u001b[0m\u001b[0;34m(\u001b[0m\u001b[0mtrue_relevance\u001b[0m\u001b[0;34m)\u001b[0m\u001b[0;34m\u001b[0m\u001b[0;34m\u001b[0m\u001b[0m\n\u001b[0m",
            "\u001b[0;31mTypeError\u001b[0m: ufunc 'isnan' not supported for the input types, and the inputs could not be safely coerced to any supported types according to the casting rule ''safe''"
          ]
        }
      ]
    },
    {
      "cell_type": "code",
      "source": [
        "print(true_relevance)"
      ],
      "metadata": {
        "colab": {
          "base_uri": "https://localhost:8080/"
        },
        "id": "cH4Zv5PqOcMV",
        "outputId": "20e8c40a-2bb2-4fa9-b8d9-24fac65efddc"
      },
      "execution_count": null,
      "outputs": [
        {
          "output_type": "stream",
          "name": "stdout",
          "text": [
            "None\n"
          ]
        }
      ]
    },
    {
      "cell_type": "code",
      "source": [],
      "metadata": {
        "id": "gIYEDOkmOgg9"
      },
      "execution_count": null,
      "outputs": []
    }
  ]
}