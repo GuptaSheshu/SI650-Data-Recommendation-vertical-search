{
  "nbformat": 4,
  "nbformat_minor": 0,
  "metadata": {
    "colab": {
      "provenance": [],
      "machine_shape": "hm"
    },
    "kernelspec": {
      "name": "python3",
      "display_name": "Python 3"
    },
    "language_info": {
      "name": "python"
    },
    "accelerator": "GPU",
    "gpuClass": "standard"
  },
  "cells": [
    {
      "cell_type": "code",
      "execution_count": 1,
      "metadata": {
        "colab": {
          "base_uri": "https://localhost:8080/"
        },
        "id": "OUnTrq_2wCGn",
        "outputId": "e27e5edd-97dc-4c04-b3ae-b54626520f77"
      },
      "outputs": [
        {
          "output_type": "stream",
          "name": "stdout",
          "text": [
            "Looking in indexes: https://pypi.org/simple, https://us-python.pkg.dev/colab-wheels/public/simple/\n",
            "Collecting python-terrier\n",
            "  Downloading python-terrier-0.9.1.tar.gz (102 kB)\n",
            "\u001b[K     |████████████████████████████████| 102 kB 9.3 MB/s \n",
            "\u001b[?25hRequirement already satisfied: numpy in /usr/local/lib/python3.7/dist-packages (from python-terrier) (1.21.6)\n",
            "Requirement already satisfied: pandas in /usr/local/lib/python3.7/dist-packages (from python-terrier) (1.3.5)\n",
            "Collecting wget\n",
            "  Downloading wget-3.2.zip (10 kB)\n",
            "Requirement already satisfied: tqdm in /usr/local/lib/python3.7/dist-packages (from python-terrier) (4.64.1)\n",
            "Collecting pyjnius>=1.4.2\n",
            "  Downloading pyjnius-1.4.2-cp37-cp37m-manylinux_2_17_x86_64.manylinux2014_x86_64.whl (1.3 MB)\n",
            "\u001b[K     |████████████████████████████████| 1.3 MB 51.5 MB/s \n",
            "\u001b[?25hCollecting matchpy\n",
            "  Downloading matchpy-0.5.5-py3-none-any.whl (69 kB)\n",
            "\u001b[K     |████████████████████████████████| 69 kB 8.1 MB/s \n",
            "\u001b[?25hCollecting sklearn\n",
            "  Downloading sklearn-0.0.post1.tar.gz (3.6 kB)\n",
            "Collecting deprecated\n",
            "  Downloading Deprecated-1.2.13-py2.py3-none-any.whl (9.6 kB)\n",
            "Collecting chest\n",
            "  Downloading chest-0.2.3.tar.gz (9.6 kB)\n",
            "Requirement already satisfied: scipy in /usr/local/lib/python3.7/dist-packages (from python-terrier) (1.7.3)\n",
            "Requirement already satisfied: requests in /usr/local/lib/python3.7/dist-packages (from python-terrier) (2.23.0)\n",
            "Requirement already satisfied: joblib in /usr/local/lib/python3.7/dist-packages (from python-terrier) (1.2.0)\n",
            "Collecting nptyping==1.4.4\n",
            "  Downloading nptyping-1.4.4-py3-none-any.whl (31 kB)\n",
            "Requirement already satisfied: more_itertools in /usr/local/lib/python3.7/dist-packages (from python-terrier) (9.0.0)\n",
            "Collecting ir_datasets>=0.3.2\n",
            "  Downloading ir_datasets-0.5.4-py3-none-any.whl (311 kB)\n",
            "\u001b[K     |████████████████████████████████| 311 kB 50.8 MB/s \n",
            "\u001b[?25hRequirement already satisfied: jinja2 in /usr/local/lib/python3.7/dist-packages (from python-terrier) (2.11.3)\n",
            "Requirement already satisfied: statsmodels in /usr/local/lib/python3.7/dist-packages (from python-terrier) (0.12.2)\n",
            "Collecting ir_measures>=0.3.1\n",
            "  Downloading ir_measures-0.3.1.tar.gz (46 kB)\n",
            "\u001b[K     |████████████████████████████████| 46 kB 4.1 MB/s \n",
            "\u001b[?25hRequirement already satisfied: dill in /usr/local/lib/python3.7/dist-packages (from python-terrier) (0.3.6)\n",
            "Collecting pytrec_eval_terrier>=0.5.3\n",
            "  Downloading pytrec_eval_terrier-0.5.5-cp37-cp37m-manylinux_2_17_x86_64.manylinux2014_x86_64.whl (286 kB)\n",
            "\u001b[K     |████████████████████████████████| 286 kB 81.2 MB/s \n",
            "\u001b[?25hCollecting typish>=1.7.0\n",
            "  Downloading typish-1.9.3-py3-none-any.whl (45 kB)\n",
            "\u001b[K     |████████████████████████████████| 45 kB 3.7 MB/s \n",
            "\u001b[?25hRequirement already satisfied: lxml>=4.5.2 in /usr/local/lib/python3.7/dist-packages (from ir_datasets>=0.3.2->python-terrier) (4.9.1)\n",
            "Collecting lz4>=3.1.1\n",
            "  Downloading lz4-4.0.2-cp37-cp37m-manylinux_2_17_x86_64.manylinux2014_x86_64.whl (1.2 MB)\n",
            "\u001b[K     |████████████████████████████████| 1.2 MB 62.1 MB/s \n",
            "\u001b[?25hCollecting pyautocorpus>=0.1.1\n",
            "  Downloading pyautocorpus-0.1.9-cp37-cp37m-manylinux_2_12_x86_64.manylinux2010_x86_64.whl (294 kB)\n",
            "\u001b[K     |████████████████████████████████| 294 kB 93.9 MB/s \n",
            "\u001b[?25hCollecting warc3-wet>=0.2.3\n",
            "  Downloading warc3_wet-0.2.3-py3-none-any.whl (13 kB)\n",
            "Collecting ijson>=3.1.3\n",
            "  Downloading ijson-3.1.4-cp37-cp37m-manylinux2010_x86_64.whl (126 kB)\n",
            "\u001b[K     |████████████████████████████████| 126 kB 81.4 MB/s \n",
            "\u001b[?25hCollecting trec-car-tools>=2.5.4\n",
            "  Downloading trec_car_tools-2.6-py3-none-any.whl (8.4 kB)\n",
            "Collecting unlzw3>=0.2.1\n",
            "  Downloading unlzw3-0.2.1.tar.gz (5.8 kB)\n",
            "  Installing build dependencies ... \u001b[?25l\u001b[?25hdone\n",
            "  Getting requirements to build wheel ... \u001b[?25l\u001b[?25hdone\n",
            "    Preparing wheel metadata ... \u001b[?25l\u001b[?25hdone\n",
            "Requirement already satisfied: pyyaml>=5.3.1 in /usr/local/lib/python3.7/dist-packages (from ir_datasets>=0.3.2->python-terrier) (6.0)\n",
            "Collecting warc3-wet-clueweb09>=0.2.5\n",
            "  Downloading warc3-wet-clueweb09-0.2.5.tar.gz (17 kB)\n",
            "Requirement already satisfied: beautifulsoup4>=4.4.1 in /usr/local/lib/python3.7/dist-packages (from ir_datasets>=0.3.2->python-terrier) (4.6.3)\n",
            "Collecting zlib-state>=0.1.3\n",
            "  Downloading zlib_state-0.1.5-cp37-cp37m-manylinux2010_x86_64.whl (72 kB)\n",
            "\u001b[K     |████████████████████████████████| 72 kB 1.2 MB/s \n",
            "\u001b[?25hCollecting cwl-eval>=1.0.10\n",
            "  Downloading cwl-eval-1.0.12.tar.gz (31 kB)\n",
            "Requirement already satisfied: six>=1.7.0 in /usr/local/lib/python3.7/dist-packages (from pyjnius>=1.4.2->python-terrier) (1.15.0)\n",
            "Requirement already satisfied: certifi>=2017.4.17 in /usr/local/lib/python3.7/dist-packages (from requests->python-terrier) (2022.9.24)\n",
            "Requirement already satisfied: chardet<4,>=3.0.2 in /usr/local/lib/python3.7/dist-packages (from requests->python-terrier) (3.0.4)\n",
            "Requirement already satisfied: urllib3!=1.25.0,!=1.25.1,<1.26,>=1.21.1 in /usr/local/lib/python3.7/dist-packages (from requests->python-terrier) (1.24.3)\n",
            "Requirement already satisfied: idna<3,>=2.5 in /usr/local/lib/python3.7/dist-packages (from requests->python-terrier) (2.10)\n",
            "Collecting cbor>=1.0.0\n",
            "  Downloading cbor-1.0.0.tar.gz (20 kB)\n",
            "Requirement already satisfied: heapdict in /usr/local/lib/python3.7/dist-packages (from chest->python-terrier) (1.0.1)\n",
            "Requirement already satisfied: wrapt<2,>=1.10 in /usr/local/lib/python3.7/dist-packages (from deprecated->python-terrier) (1.14.1)\n",
            "Requirement already satisfied: MarkupSafe>=0.23 in /usr/local/lib/python3.7/dist-packages (from jinja2->python-terrier) (2.0.1)\n",
            "Collecting multiset<3.0,>=2.0\n",
            "  Downloading multiset-2.1.1-py2.py3-none-any.whl (8.8 kB)\n",
            "Requirement already satisfied: pytz>=2017.3 in /usr/local/lib/python3.7/dist-packages (from pandas->python-terrier) (2022.6)\n",
            "Requirement already satisfied: python-dateutil>=2.7.3 in /usr/local/lib/python3.7/dist-packages (from pandas->python-terrier) (2.8.2)\n",
            "Requirement already satisfied: patsy>=0.5 in /usr/local/lib/python3.7/dist-packages (from statsmodels->python-terrier) (0.5.3)\n",
            "Building wheels for collected packages: python-terrier, ir-measures, cwl-eval, cbor, unlzw3, warc3-wet-clueweb09, chest, sklearn, wget\n",
            "  Building wheel for python-terrier (setup.py) ... \u001b[?25l\u001b[?25hdone\n",
            "  Created wheel for python-terrier: filename=python_terrier-0.9.1-py3-none-any.whl size=110767 sha256=ba6c985c0c518bb61a7437f8a88e9ca55aff457de7195cc196c6be51423187d0\n",
            "  Stored in directory: /root/.cache/pip/wheels/a5/e2/45/ed1f2652af18e80c281ec10fbf4998c49c84fd7385518bf6a5\n",
            "  Building wheel for ir-measures (setup.py) ... \u001b[?25l\u001b[?25hdone\n",
            "  Created wheel for ir-measures: filename=ir_measures-0.3.1-py3-none-any.whl size=60193 sha256=6b5e496c31d9f09c7d22416fb00efd3e6040d90988f416a8319d59e21692aff4\n",
            "  Stored in directory: /root/.cache/pip/wheels/17/86/a6/8b9c92080cdc19346721307878315c19430fb4705716a5676a\n",
            "  Building wheel for cwl-eval (setup.py) ... \u001b[?25l\u001b[?25hdone\n",
            "  Created wheel for cwl-eval: filename=cwl_eval-1.0.12-py3-none-any.whl size=38085 sha256=01d736036a043d817e8cdbf4b79d0d5645fb08b3fc79c8ca1f4178dbc4051049\n",
            "  Stored in directory: /root/.cache/pip/wheels/5c/09/32/5e203c9c2ec3d82b7ffa30a8bff17df266d397441e62d1d43e\n",
            "  Building wheel for cbor (setup.py) ... \u001b[?25l\u001b[?25hdone\n",
            "  Created wheel for cbor: filename=cbor-1.0.0-cp37-cp37m-linux_x86_64.whl size=51302 sha256=b87dec3332e4180e6aa33fb4594703067375c25f2596e3d01b0ccb2cbaeee6e1\n",
            "  Stored in directory: /root/.cache/pip/wheels/19/77/49/c9c2c8dc5848502e606e8579d0bbda18b850fb056a6c62239d\n",
            "  Building wheel for unlzw3 (PEP 517) ... \u001b[?25l\u001b[?25hdone\n",
            "  Created wheel for unlzw3: filename=unlzw3-0.2.1-py3-none-any.whl size=6082 sha256=11fa937e494bfe179e6ab28ab4c2efe1799ede8d09c18c5eddde39ca871c6ce1\n",
            "  Stored in directory: /root/.cache/pip/wheels/e1/3c/d9/e33962c8aad8999dc5560b6e71baafa2335c269f532f5e176a\n",
            "  Building wheel for warc3-wet-clueweb09 (setup.py) ... \u001b[?25l\u001b[?25hdone\n",
            "  Created wheel for warc3-wet-clueweb09: filename=warc3_wet_clueweb09-0.2.5-py3-none-any.whl size=18922 sha256=02a1940b9930bd578115672d0b2c0b5487e778870f0aac6f7b03a6b4eb5199a0\n",
            "  Stored in directory: /root/.cache/pip/wheels/42/d4/3c/7c2b0c3d400ad744e4db69f2fde166655da2ed2198bfc02db6\n",
            "  Building wheel for chest (setup.py) ... \u001b[?25l\u001b[?25hdone\n",
            "  Created wheel for chest: filename=chest-0.2.3-py3-none-any.whl size=7633 sha256=ceff9862db6204d4126061cb4583c574109348d4fddd4fdbcd957432fcd453c7\n",
            "  Stored in directory: /root/.cache/pip/wheels/fc/f5/b9/c436e11300809e6b40d46a5d2592fb0bff89e0712f2e878dc7\n",
            "  Building wheel for sklearn (setup.py) ... \u001b[?25l\u001b[?25hdone\n",
            "  Created wheel for sklearn: filename=sklearn-0.0.post1-py3-none-any.whl size=2344 sha256=cfd0761f939648526f31e31db351ba8d9c51a84eeaefa8f452bc9d6b9ceadd12\n",
            "  Stored in directory: /root/.cache/pip/wheels/42/56/cc/4a8bf86613aafd5b7f1b310477667c1fca5c51c3ae4124a003\n",
            "  Building wheel for wget (setup.py) ... \u001b[?25l\u001b[?25hdone\n",
            "  Created wheel for wget: filename=wget-3.2-py3-none-any.whl size=9675 sha256=ca9ca303146e84603a20e568f53e584040b0ed0e228ce1049d8ec9d280fe271f\n",
            "  Stored in directory: /root/.cache/pip/wheels/a1/b6/7c/0e63e34eb06634181c63adacca38b79ff8f35c37e3c13e3c02\n",
            "Successfully built python-terrier ir-measures cwl-eval cbor unlzw3 warc3-wet-clueweb09 chest sklearn wget\n",
            "Installing collected packages: cbor, zlib-state, warc3-wet-clueweb09, warc3-wet, unlzw3, typish, trec-car-tools, pytrec-eval-terrier, pyautocorpus, multiset, lz4, ijson, cwl-eval, wget, sklearn, pyjnius, nptyping, matchpy, ir-measures, ir-datasets, deprecated, chest, python-terrier\n",
            "Successfully installed cbor-1.0.0 chest-0.2.3 cwl-eval-1.0.12 deprecated-1.2.13 ijson-3.1.4 ir-datasets-0.5.4 ir-measures-0.3.1 lz4-4.0.2 matchpy-0.5.5 multiset-2.1.1 nptyping-1.4.4 pyautocorpus-0.1.9 pyjnius-1.4.2 python-terrier-0.9.1 pytrec-eval-terrier-0.5.5 sklearn-0.0.post1 trec-car-tools-2.6 typish-1.9.3 unlzw3-0.2.1 warc3-wet-0.2.3 warc3-wet-clueweb09-0.2.5 wget-3.2 zlib-state-0.1.5\n"
          ]
        }
      ],
      "source": [
        "!pip install python-terrier"
      ]
    },
    {
      "cell_type": "code",
      "source": [
        "from google.colab import drive\n",
        "drive.mount('/content/drive')"
      ],
      "metadata": {
        "colab": {
          "base_uri": "https://localhost:8080/"
        },
        "id": "IAf0lLDN422i",
        "outputId": "acc3864f-1fad-467a-8555-cdaa5fb7c1fc"
      },
      "execution_count": 4,
      "outputs": [
        {
          "output_type": "stream",
          "name": "stdout",
          "text": [
            "Mounted at /content/drive\n"
          ]
        }
      ]
    },
    {
      "cell_type": "code",
      "source": [
        "import pandas as pd\n",
        "# Helpful for showing indexing information\n",
        "pd.set_option('display.max_colwidth', 150)\n",
        "\n",
        "import pyterrier as pt\n",
        "import os"
      ],
      "metadata": {
        "id": "OVtIkcpTwMUt"
      },
      "execution_count": 5,
      "outputs": []
    },
    {
      "cell_type": "code",
      "source": [
        "if not pt.started():\n",
        "    pt.init()"
      ],
      "metadata": {
        "id": "Xm4cJIMWwQE4"
      },
      "execution_count": 6,
      "outputs": []
    },
    {
      "cell_type": "code",
      "source": [
        "df = pd.read_csv('/content/drive/MyDrive/SI650/650 Project/SI650-Data-Recommendation-vertical-search/scrapped_amazon_general_queries_data.csv', usecols=[\"productTitle\", \"productDescription\", \"Brand\", \"Ingredients\", \"About this item\", \"URL\"], sep=';', header=0)\n",
        "df['docno'] = 'd' + (df.reset_index().index).astype(str)\n",
        "df['text'] = df[[\"productTitle\", \"productDescription\", \"Brand\", \"Ingredients\", \"About this item\"]].apply(lambda x: ' '.join(x[x.notnull()]), axis = 1)\n",
        "print(df.head(5))"
      ],
      "metadata": {
        "colab": {
          "base_uri": "https://localhost:8080/"
        },
        "id": "Ro-bT3wfwV12",
        "outputId": "85745217-971f-48ab-d079-ca2c57cb6d44"
      },
      "execution_count": 19,
      "outputs": [
        {
          "output_type": "stream",
          "name": "stdout",
          "text": [
            "                                                                                                                                        productTitle  \\\n",
            "0                        Maybelline Hyper Easy Liquid Pen No-Skip Eyeliner Satin Finish Waterproof Formula Eye Liner Makeup Pitch Black 0.018 Fl; Oz   \n",
            "1                         L'Oreal Paris Makeup Infallible Never Fail Original Mechanical Pencil Eyeliner with Built in Sharpener Black Brown 2 Count   \n",
            "2  L'Oreal Paris L’Oreal Paris Makeup Infallible Grip Precision Felt Eyeliner Smudge Resistant Long Lasting Waterproof Eyeliner Grey Grey 0.03 fl oz   \n",
            "3                                                                                             HotDeal Lakme Insta Deep Intensee Black Eye Liner 9 ml   \n",
            "4                                                                                                      Lakme Insta Deep Intense Black Eye Liner 9 ml   \n",
            "\n",
            "                                                                                                                                      productDescription  \\\n",
            "0  Introducing the liquid liner minus the skips, slips, gaps and struggle. Liquid liner goes hyper easy. With its hyper easy brush tip, It delivers t...   \n",
            "1  Create classic to bold eye designs with Infallible Never Fail Mechanical Eyeliner. The rich and creamy formula glides on easily and evenly for fad...   \n",
            "2  Up to 30HR wear. Easy Application. Waterproof, smudge-resistant. Define and line your eyes with vibrant color that lasts. L’Oreal Paris’s Infallib...   \n",
            "3  The Insta Liner by Lakme is a liquid eyeliner that gives your eyes perfect definition, with a long-lasting and smudge-proof formula. Benefits * Li...   \n",
            "4  The Insta Liner by Lakme is a liquid eyeliner that gives your eyes perfect definition, with a long-lasting and smudge-proof formula. Benefits * Li...   \n",
            "\n",
            "                 Brand  \\\n",
            "0  Maybelline New York   \n",
            "1        L'Oreal Paris   \n",
            "2        L'Oreal Paris   \n",
            "3              HotDeal   \n",
            "4             Bestdeal   \n",
            "\n",
            "                                                                                                                                             Ingredients  \\\n",
            "0   Ingredients G2015752INGREDIENTS AQUA / WATER / EAUSTYRENE/ACRYLATES COPOLYMERPROPYLENE GLYCOLLAURETH-21PENTYLENE GLYCOLPEG-40 HYDROGENATED CASTOR...   \n",
            "1   Ingredients G785243 CYCLOPENTASILOXANE HYDROGENATED OLIVE OIL STEARYL ESTERS POLYETHYLENE POLYBUTENE SILICA SILYLATE CANDELILLA CERA / CANDELILLA...   \n",
            "2   Ingredients G2004648 Aqua / Water / Eau, Styrene/Acrylates/Ammonium Methacrylate Copolymer, Methylpropanediol, Cellulose, Poloxamer 407, Coco-Glu...   \n",
            "3   Ingredients G2004648 Aqua / Water / Eau, Styrene/Acrylates/Ammonium Methacrylate Copolymer, Methylpropanediol, Cellulose, Poloxamer 407, Coco-Glu...   \n",
            "4                                                                                                                                 Ingredients Aloe vera    \n",
            "\n",
            "                                                                                                                                         About this item  \\\n",
            "0  [' Liquid Eyeliner: Introducing liquid liner minus the skips, slips, gaps and struggle; With its hyper easy brush tip, this liquid eyeliner delive...   \n",
            "1  [' Infallible Never Fail Smudge-Proof Eyeliner: Mechanical pencil eyeliner with built in sharpener is formulated to glide on easily and stay put f...   \n",
            "2  [' Longwear Liquid Eyeliner: With a smudge-resistant, waterproof formula, this liquid eyeliner delivers ultra-thin lines with up to 30 hour wear; ...   \n",
            "3                                                                                         [' Water resistant  ', ' Intense finish  ', ' Smudge-proof  ']   \n",
            "4                                                                                         [' Water resistant  ', ' Intense finish  ', ' Smudge-proof  ']   \n",
            "\n",
            "                                                                                                                                                     URL  \\\n",
            "0  https://www.amazon.com/sspa/click?ie=UTF8&spc=MTo4Njc0NTY2NDIwNTUyNDA1OjE2Njc5NDYyNzU6c3BfYXRmOjIwMDAzMDExNTQwNDYyMTo6MDo6&sp_csd=d2lkZ2V0TmFtZT1z...   \n",
            "1  https://www.amazon.com/sspa/click?ie=UTF8&spc=MTo4Njc0NTY2NDIwNTUyNDA1OjE2Njc5NDYyNzU6c3BfYXRmOjIwMDAyMjEwNDg2NzY4MTo6MDo6&sp_csd=d2lkZ2V0TmFtZT1z...   \n",
            "2  https://www.amazon.com/sspa/click?ie=UTF8&spc=MTo4Njc0NTY2NDIwNTUyNDA1OjE2Njc5NDYyNzU6c3BfYXRmOjIwMDA2Mjk3NzE0ODY5ODo6MDo6&sp_csd=d2lkZ2V0TmFtZT1z...   \n",
            "3  https://www.amazon.com/HotDeal-Lakme-Insta-Intensee-Black/dp/B09VPX3DZB/ref=sr_1_4?crid=3MFUSBY30FHA4&keywords=lakme+eyeliner&qid=1667946275&spref...   \n",
            "4  https://www.amazon.com/Lakme-Insta-Intense-Black-Liner/dp/B09TRGCMNJ/ref=sr_1_5?crid=3MFUSBY30FHA4&keywords=lakme+eyeliner&qid=1667946275&sprefix=...   \n",
            "\n",
            "  docno  \\\n",
            "0    d0   \n",
            "1    d1   \n",
            "2    d2   \n",
            "3    d3   \n",
            "4    d4   \n",
            "\n",
            "                                                                                                                                                    text  \n",
            "0  Maybelline Hyper Easy Liquid Pen No-Skip Eyeliner Satin Finish Waterproof Formula Eye Liner Makeup Pitch Black 0.018 Fl; Oz Introducing the liquid...  \n",
            "1  L'Oreal Paris Makeup Infallible Never Fail Original Mechanical Pencil Eyeliner with Built in Sharpener Black Brown 2 Count Create classic to bold ...  \n",
            "2  L'Oreal Paris L’Oreal Paris Makeup Infallible Grip Precision Felt Eyeliner Smudge Resistant Long Lasting Waterproof Eyeliner Grey Grey 0.03 fl oz ...  \n",
            "3  HotDeal Lakme Insta Deep Intensee Black Eye Liner 9 ml The Insta Liner by Lakme is a liquid eyeliner that gives your eyes perfect definition, with...  \n",
            "4  Lakme Insta Deep Intense Black Eye Liner 9 ml The Insta Liner by Lakme is a liquid eyeliner that gives your eyes perfect definition, with a long-l...  \n"
          ]
        }
      ]
    },
    {
      "cell_type": "code",
      "source": [
        "index_dir = os.path.abspath('amazonindex')\n",
        "indexer = pt.DFIndexer(index_dir, overwrite=True)\n",
        "index_ref = indexer.index(df[\"text\"], df[\"docno\"], )\n",
        "index_ref.toString()"
      ],
      "metadata": {
        "id": "22L7qHIJwcxp",
        "colab": {
          "base_uri": "https://localhost:8080/",
          "height": 35
        },
        "outputId": "15afe586-9a2e-4c05-e7fb-ab3face4433b"
      },
      "execution_count": 20,
      "outputs": [
        {
          "output_type": "execute_result",
          "data": {
            "text/plain": [
              "'/content/amazonindex/data.properties'"
            ],
            "application/vnd.google.colaboratory.intrinsic+json": {
              "type": "string"
            }
          },
          "metadata": {},
          "execution_count": 20
        }
      ]
    },
    {
      "cell_type": "code",
      "source": [
        "index = pt.IndexFactory.of(index_ref)"
      ],
      "metadata": {
        "id": "h-O7isfuycm0"
      },
      "execution_count": 21,
      "outputs": []
    },
    {
      "cell_type": "code",
      "source": [
        "print(index.getCollectionStatistics().toString())"
      ],
      "metadata": {
        "colab": {
          "base_uri": "https://localhost:8080/"
        },
        "id": "ptEoSPceyeSJ",
        "outputId": "75b8267e-58b6-4793-f448-6c1f6dae2ff2"
      },
      "execution_count": 22,
      "outputs": [
        {
          "output_type": "stream",
          "name": "stdout",
          "text": [
            "Number of documents: 2801\n",
            "Number of terms: 4274\n",
            "Number of postings: 70394\n",
            "Number of fields: 0\n",
            "Number of tokens: 105257\n",
            "Field names: []\n",
            "Positions:   false\n",
            "\n"
          ]
        }
      ]
    },
    {
      "cell_type": "code",
      "source": [
        "qdf = pd.read_csv(\"/content/drive/MyDrive/SI650/650 Project/SI650-Data-Recommendation-vertical-search/combined_queries.csv\", usecols=['qid', 'query'], header=0)\n",
        "print(qdf)"
      ],
      "metadata": {
        "id": "uYfZRQWX93z8",
        "colab": {
          "base_uri": "https://localhost:8080/"
        },
        "outputId": "a75ac9bc-8f5a-46bb-8a93-9c52ad81a008"
      },
      "execution_count": 25,
      "outputs": [
        {
          "output_type": "stream",
          "name": "stdout",
          "text": [
            "    qid                                        query\n",
            "0     1                       facewash for oily skin\n",
            "1     2                              concealer stick\n",
            "2     3                      cruelty free foundation\n",
            "3     4                                 gel nail kit\n",
            "4     5                      frizzy hair conditioner\n",
            "5     6                         waterproof eyeshadow\n",
            "6     7                blush and highlighter palette\n",
            "7     8                   waterproof liquid eyeliner\n",
            "8     9                      matte eyeshadow palette\n",
            "9    10                   lip liner and lipstick set\n",
            "10   11                                nude lipstick\n",
            "11   12                        skin care sets & kits\n",
            "12   13                             anti aging serum\n",
            "13   14          vitamin c serum for face dark spots\n",
            "14   15                        bronzer stick contour\n",
            "15   16              mascara black volume and length\n",
            "16   17            primer face makeup pore minimizer\n",
            "17   18     moisturizer with spf for acne prone skin\n",
            "18   19                  sunscreen for face dry skin\n",
            "19   20                 facewash with salicylic acid\n",
            "20   21                        compact powder makeup\n",
            "21   22    hair mask for dry damaged hair and growth\n",
            "22   23  retinol cream for face with hyaluronic acid\n",
            "23   24                   mascara for sensitive eyes\n",
            "24   25                lip balm for dry cracked lips\n",
            "25   26              anti frizz serum for curly hair\n",
            "26   27                    non toxic nail polish set\n",
            "27   28     shampoo and conditioner set sulfate free\n",
            "28   29             night cream for women anti aging\n",
            "29   30           paraben and sulfate free hairspray\n",
            "30   31         moisturizer face cream for oily skin\n",
            "31   32           face mask for blackheads and pores\n",
            "32   33                     foundation full coverage\n",
            "33   34               shampoo for color treated hair\n",
            "34   35                           face mask for acne\n",
            "35   36                     conditioner for dry hair\n",
            "36   37                     cruelty free body lotion\n",
            "37   38      shampoo for thinning hair and hair loss\n",
            "38   39                     fragrance free body wash\n",
            "39   40                     body lotion for dry skin\n",
            "40   41                         smudge free eyeliner\n",
            "41   42               moisturiser for sensitive skin\n",
            "42   43                     all skin type foundation\n",
            "43   44                    cruelty free lipstick red\n",
            "44   45                             smudge free kohl\n",
            "45   46                          waterproof lipstick\n",
            "46   47              all in one foundation concealer\n",
            "47   48                 soft nudes eyeshadow palette\n",
            "48   49                           red nailpaints set\n",
            "49   50                        long lasting lipstick\n",
            "50   51             eyebrow pencil set multiple size\n",
            "51   52                        smudge free nailpaint\n",
            "52   53                     highlighting moisturizer\n",
            "53   54                      smoky eyeshadow palette\n",
            "54   55                  best bridal makeup products\n",
            "55   56                bronzer palette for dark skin\n",
            "56   57                          light blush palette\n",
            "57   58                         cruelty free mascara\n",
            "58   59                    mascara eyeliner kohl set\n",
            "59   60                              full makeup set\n"
          ]
        }
      ]
    },
    {
      "cell_type": "code",
      "source": [
        "# Models bm25, tf_idf, pl2\n",
        "rank1 = pt.BatchRetrieve(index, wmodel='BM25', num_results=50)\n",
        "rank2 = pt.BatchRetrieve(index, wmodel='TF_IDF', num_results=50)\n",
        "rank3 = pt.BatchRetrieve(index, wmodel='PL2', num_results=50)\n",
        "final_rank = rank1 | rank2 | rank3"
      ],
      "metadata": {
        "id": "SGOLtnTryzkP"
      },
      "execution_count": 33,
      "outputs": []
    },
    {
      "cell_type": "code",
      "source": [
        "mres_final_rank = final_rank(qdf)\n",
        "print(mres_final_rank)"
      ],
      "metadata": {
        "id": "-oMHbTcW-Ie9",
        "colab": {
          "base_uri": "https://localhost:8080/"
        },
        "outputId": "f62fef56-2123-4f88-da47-4266eb61761b"
      },
      "execution_count": 40,
      "outputs": [
        {
          "output_type": "stream",
          "name": "stdout",
          "text": [
            "    qid  docid  docno                    query\n",
            "46    1   1082  d1082   facewash for oily skin\n",
            "4     1   1093  d1093   facewash for oily skin\n",
            "8     1   1112  d1112   facewash for oily skin\n",
            "1     1   1115  d1115   facewash for oily skin\n",
            "44    1   1200  d1200   facewash for oily skin\n",
            "..   ..    ...    ...                      ...\n",
            "393   9     85    d85  matte eyeshadow palette\n",
            "386   9     86    d86  matte eyeshadow palette\n",
            "414   9     88    d88  matte eyeshadow palette\n",
            "428   9      9     d9  matte eyeshadow palette\n",
            "397   9     97    d97  matte eyeshadow palette\n",
            "\n",
            "[3297 rows x 4 columns]\n"
          ]
        }
      ]
    },
    {
      "cell_type": "code",
      "source": [
        "# newdf = mres_final_rank.drop_duplicates(subset = ['docno', 'query'],\n",
        "#   keep = 'last').reset_index(drop=True)\n",
        "# print(newdf)"
      ],
      "metadata": {
        "id": "4uF0hBa4nEuN",
        "colab": {
          "base_uri": "https://localhost:8080/"
        },
        "outputId": "f64877e6-1764-448e-a10e-9f61e5466cef"
      },
      "execution_count": 38,
      "outputs": [
        {
          "output_type": "stream",
          "name": "stdout",
          "text": [
            "     qid  docid  docno                    query\n",
            "0      1   1082  d1082   facewash for oily skin\n",
            "1      1   1093  d1093   facewash for oily skin\n",
            "2      1   1112  d1112   facewash for oily skin\n",
            "3      1   1115  d1115   facewash for oily skin\n",
            "4      1   1200  d1200   facewash for oily skin\n",
            "...   ..    ...    ...                      ...\n",
            "3292   9     85    d85  matte eyeshadow palette\n",
            "3293   9     86    d86  matte eyeshadow palette\n",
            "3294   9     88    d88  matte eyeshadow palette\n",
            "3295   9      9     d9  matte eyeshadow palette\n",
            "3296   9     97    d97  matte eyeshadow palette\n",
            "\n",
            "[3297 rows x 4 columns]\n"
          ]
        }
      ]
    },
    {
      "cell_type": "code",
      "source": [
        "mres_final_rank.to_csv('final_results.csv',index=False,columns=['query','docno'])"
      ],
      "metadata": {
        "id": "66Ry2oaTn95J"
      },
      "execution_count": 41,
      "outputs": []
    },
    {
      "cell_type": "code",
      "source": [
        "df.to_csv('final_reference.csv',index=False,columns=['docno','URL','text'])"
      ],
      "metadata": {
        "id": "GM6Is0EvC_Rm"
      },
      "execution_count": 42,
      "outputs": []
    }
  ]
}