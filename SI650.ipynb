{
  "nbformat": 4,
  "nbformat_minor": 0,
  "metadata": {
    "colab": {
      "provenance": []
    },
    "kernelspec": {
      "name": "python3",
      "display_name": "Python 3"
    },
    "language_info": {
      "name": "python"
    }
  },
  "cells": [
    {
      "cell_type": "code",
      "execution_count": 1,
      "metadata": {
        "colab": {
          "base_uri": "https://localhost:8080/"
        },
        "id": "OUnTrq_2wCGn",
        "outputId": "6d38fd63-5a24-4797-f77d-d728e57b65da"
      },
      "outputs": [
        {
          "output_type": "stream",
          "name": "stdout",
          "text": [
            "Looking in indexes: https://pypi.org/simple, https://us-python.pkg.dev/colab-wheels/public/simple/\n",
            "Collecting python-terrier\n",
            "  Downloading python-terrier-0.9.1.tar.gz (102 kB)\n",
            "\u001b[K     |████████████████████████████████| 102 kB 30.2 MB/s \n",
            "\u001b[?25hRequirement already satisfied: numpy in /usr/local/lib/python3.7/dist-packages (from python-terrier) (1.21.6)\n",
            "Requirement already satisfied: pandas in /usr/local/lib/python3.7/dist-packages (from python-terrier) (1.3.5)\n",
            "Collecting wget\n",
            "  Downloading wget-3.2.zip (10 kB)\n",
            "Requirement already satisfied: tqdm in /usr/local/lib/python3.7/dist-packages (from python-terrier) (4.64.1)\n",
            "Collecting pyjnius>=1.4.2\n",
            "  Downloading pyjnius-1.4.2-cp37-cp37m-manylinux_2_17_x86_64.manylinux2014_x86_64.whl (1.3 MB)\n",
            "\u001b[K     |████████████████████████████████| 1.3 MB 30.2 MB/s \n",
            "\u001b[?25hCollecting matchpy\n",
            "  Downloading matchpy-0.5.5-py3-none-any.whl (69 kB)\n",
            "\u001b[K     |████████████████████████████████| 69 kB 8.3 MB/s \n",
            "\u001b[?25hCollecting sklearn\n",
            "  Downloading sklearn-0.0.post1.tar.gz (3.6 kB)\n",
            "Collecting deprecated\n",
            "  Downloading Deprecated-1.2.13-py2.py3-none-any.whl (9.6 kB)\n",
            "Collecting chest\n",
            "  Downloading chest-0.2.3.tar.gz (9.6 kB)\n",
            "Requirement already satisfied: scipy in /usr/local/lib/python3.7/dist-packages (from python-terrier) (1.7.3)\n",
            "Requirement already satisfied: requests in /usr/local/lib/python3.7/dist-packages (from python-terrier) (2.23.0)\n",
            "Requirement already satisfied: joblib in /usr/local/lib/python3.7/dist-packages (from python-terrier) (1.2.0)\n",
            "Collecting nptyping==1.4.4\n",
            "  Downloading nptyping-1.4.4-py3-none-any.whl (31 kB)\n",
            "Requirement already satisfied: more_itertools in /usr/local/lib/python3.7/dist-packages (from python-terrier) (9.0.0)\n",
            "Collecting ir_datasets>=0.3.2\n",
            "  Downloading ir_datasets-0.5.4-py3-none-any.whl (311 kB)\n",
            "\u001b[K     |████████████████████████████████| 311 kB 52.5 MB/s \n",
            "\u001b[?25hRequirement already satisfied: jinja2 in /usr/local/lib/python3.7/dist-packages (from python-terrier) (2.11.3)\n",
            "Requirement already satisfied: statsmodels in /usr/local/lib/python3.7/dist-packages (from python-terrier) (0.12.2)\n",
            "Collecting ir_measures>=0.3.1\n",
            "  Downloading ir_measures-0.3.1.tar.gz (46 kB)\n",
            "\u001b[K     |████████████████████████████████| 46 kB 3.7 MB/s \n",
            "\u001b[?25hRequirement already satisfied: dill in /usr/local/lib/python3.7/dist-packages (from python-terrier) (0.3.6)\n",
            "Collecting pytrec_eval_terrier>=0.5.3\n",
            "  Downloading pytrec_eval_terrier-0.5.5-cp37-cp37m-manylinux_2_17_x86_64.manylinux2014_x86_64.whl (286 kB)\n",
            "\u001b[K     |████████████████████████████████| 286 kB 53.4 MB/s \n",
            "\u001b[?25hCollecting typish>=1.7.0\n",
            "  Downloading typish-1.9.3-py3-none-any.whl (45 kB)\n",
            "\u001b[K     |████████████████████████████████| 45 kB 3.4 MB/s \n",
            "\u001b[?25hCollecting trec-car-tools>=2.5.4\n",
            "  Downloading trec_car_tools-2.6-py3-none-any.whl (8.4 kB)\n",
            "Requirement already satisfied: beautifulsoup4>=4.4.1 in /usr/local/lib/python3.7/dist-packages (from ir_datasets>=0.3.2->python-terrier) (4.6.3)\n",
            "Collecting lz4>=3.1.1\n",
            "  Downloading lz4-4.0.2-cp37-cp37m-manylinux_2_17_x86_64.manylinux2014_x86_64.whl (1.2 MB)\n",
            "\u001b[K     |████████████████████████████████| 1.2 MB 46.8 MB/s \n",
            "\u001b[?25hCollecting pyautocorpus>=0.1.1\n",
            "  Downloading pyautocorpus-0.1.9-cp37-cp37m-manylinux_2_12_x86_64.manylinux2010_x86_64.whl (294 kB)\n",
            "\u001b[K     |████████████████████████████████| 294 kB 60.4 MB/s \n",
            "\u001b[?25hRequirement already satisfied: pyyaml>=5.3.1 in /usr/local/lib/python3.7/dist-packages (from ir_datasets>=0.3.2->python-terrier) (6.0)\n",
            "Collecting warc3-wet>=0.2.3\n",
            "  Downloading warc3_wet-0.2.3-py3-none-any.whl (13 kB)\n",
            "Collecting warc3-wet-clueweb09>=0.2.5\n",
            "  Downloading warc3-wet-clueweb09-0.2.5.tar.gz (17 kB)\n",
            "Collecting zlib-state>=0.1.3\n",
            "  Downloading zlib_state-0.1.5-cp37-cp37m-manylinux2010_x86_64.whl (72 kB)\n",
            "\u001b[K     |████████████████████████████████| 72 kB 1.6 MB/s \n",
            "\u001b[?25hRequirement already satisfied: lxml>=4.5.2 in /usr/local/lib/python3.7/dist-packages (from ir_datasets>=0.3.2->python-terrier) (4.9.1)\n",
            "Collecting unlzw3>=0.2.1\n",
            "  Downloading unlzw3-0.2.1.tar.gz (5.8 kB)\n",
            "  Installing build dependencies ... \u001b[?25l\u001b[?25hdone\n",
            "  Getting requirements to build wheel ... \u001b[?25l\u001b[?25hdone\n",
            "    Preparing wheel metadata ... \u001b[?25l\u001b[?25hdone\n",
            "Collecting ijson>=3.1.3\n",
            "  Downloading ijson-3.1.4-cp37-cp37m-manylinux2010_x86_64.whl (126 kB)\n",
            "\u001b[K     |████████████████████████████████| 126 kB 43.8 MB/s \n",
            "\u001b[?25hCollecting cwl-eval>=1.0.10\n",
            "  Downloading cwl-eval-1.0.12.tar.gz (31 kB)\n",
            "Requirement already satisfied: six>=1.7.0 in /usr/local/lib/python3.7/dist-packages (from pyjnius>=1.4.2->python-terrier) (1.15.0)\n",
            "Requirement already satisfied: certifi>=2017.4.17 in /usr/local/lib/python3.7/dist-packages (from requests->python-terrier) (2022.9.24)\n",
            "Requirement already satisfied: chardet<4,>=3.0.2 in /usr/local/lib/python3.7/dist-packages (from requests->python-terrier) (3.0.4)\n",
            "Requirement already satisfied: urllib3!=1.25.0,!=1.25.1,<1.26,>=1.21.1 in /usr/local/lib/python3.7/dist-packages (from requests->python-terrier) (1.24.3)\n",
            "Requirement already satisfied: idna<3,>=2.5 in /usr/local/lib/python3.7/dist-packages (from requests->python-terrier) (2.10)\n",
            "Collecting cbor>=1.0.0\n",
            "  Downloading cbor-1.0.0.tar.gz (20 kB)\n",
            "Requirement already satisfied: heapdict in /usr/local/lib/python3.7/dist-packages (from chest->python-terrier) (1.0.1)\n",
            "Requirement already satisfied: wrapt<2,>=1.10 in /usr/local/lib/python3.7/dist-packages (from deprecated->python-terrier) (1.14.1)\n",
            "Requirement already satisfied: MarkupSafe>=0.23 in /usr/local/lib/python3.7/dist-packages (from jinja2->python-terrier) (2.0.1)\n",
            "Collecting multiset<3.0,>=2.0\n",
            "  Downloading multiset-2.1.1-py2.py3-none-any.whl (8.8 kB)\n",
            "Requirement already satisfied: python-dateutil>=2.7.3 in /usr/local/lib/python3.7/dist-packages (from pandas->python-terrier) (2.8.2)\n",
            "Requirement already satisfied: pytz>=2017.3 in /usr/local/lib/python3.7/dist-packages (from pandas->python-terrier) (2022.6)\n",
            "Requirement already satisfied: patsy>=0.5 in /usr/local/lib/python3.7/dist-packages (from statsmodels->python-terrier) (0.5.3)\n",
            "Building wheels for collected packages: python-terrier, ir-measures, cwl-eval, cbor, unlzw3, warc3-wet-clueweb09, chest, sklearn, wget\n",
            "  Building wheel for python-terrier (setup.py) ... \u001b[?25l\u001b[?25hdone\n",
            "  Created wheel for python-terrier: filename=python_terrier-0.9.1-py3-none-any.whl size=110767 sha256=77d407f9b84ae810d82310dd0ed8cdb82ed80fd8692a05c0c980915f37679e08\n",
            "  Stored in directory: /root/.cache/pip/wheels/a5/e2/45/ed1f2652af18e80c281ec10fbf4998c49c84fd7385518bf6a5\n",
            "  Building wheel for ir-measures (setup.py) ... \u001b[?25l\u001b[?25hdone\n",
            "  Created wheel for ir-measures: filename=ir_measures-0.3.1-py3-none-any.whl size=60193 sha256=da7d064f88b1bf0a4862c0a5e665ae79b404d55fdf802b2402c038adbb23dc3e\n",
            "  Stored in directory: /root/.cache/pip/wheels/17/86/a6/8b9c92080cdc19346721307878315c19430fb4705716a5676a\n",
            "  Building wheel for cwl-eval (setup.py) ... \u001b[?25l\u001b[?25hdone\n",
            "  Created wheel for cwl-eval: filename=cwl_eval-1.0.12-py3-none-any.whl size=38085 sha256=d26afa8e77133b14df731454d68e32ddfaad781f661838ca382da6d3134aa86f\n",
            "  Stored in directory: /root/.cache/pip/wheels/5c/09/32/5e203c9c2ec3d82b7ffa30a8bff17df266d397441e62d1d43e\n",
            "  Building wheel for cbor (setup.py) ... \u001b[?25l\u001b[?25hdone\n",
            "  Created wheel for cbor: filename=cbor-1.0.0-cp37-cp37m-linux_x86_64.whl size=51299 sha256=bb90121bbdc1bf2e3df40819c55bb8a0b9f9908bbd435e36c4169ca3d1d45f1c\n",
            "  Stored in directory: /root/.cache/pip/wheels/19/77/49/c9c2c8dc5848502e606e8579d0bbda18b850fb056a6c62239d\n",
            "  Building wheel for unlzw3 (PEP 517) ... \u001b[?25l\u001b[?25hdone\n",
            "  Created wheel for unlzw3: filename=unlzw3-0.2.1-py3-none-any.whl size=6082 sha256=052edf435158b4d8d1a829c32ad5c537233e24a1a3084e43957799bc3c9a3c19\n",
            "  Stored in directory: /root/.cache/pip/wheels/e1/3c/d9/e33962c8aad8999dc5560b6e71baafa2335c269f532f5e176a\n",
            "  Building wheel for warc3-wet-clueweb09 (setup.py) ... \u001b[?25l\u001b[?25hdone\n",
            "  Created wheel for warc3-wet-clueweb09: filename=warc3_wet_clueweb09-0.2.5-py3-none-any.whl size=18922 sha256=3d93cf787e099d6ec8acf36dfe8a384acfa86b2fee3d32ebd77f4cee8ba1320e\n",
            "  Stored in directory: /root/.cache/pip/wheels/42/d4/3c/7c2b0c3d400ad744e4db69f2fde166655da2ed2198bfc02db6\n",
            "  Building wheel for chest (setup.py) ... \u001b[?25l\u001b[?25hdone\n",
            "  Created wheel for chest: filename=chest-0.2.3-py3-none-any.whl size=7633 sha256=d3f35ab259eb250e84b572fe60414ec99e1abed31b3e1b5a162f9544550e3ebe\n",
            "  Stored in directory: /root/.cache/pip/wheels/fc/f5/b9/c436e11300809e6b40d46a5d2592fb0bff89e0712f2e878dc7\n",
            "  Building wheel for sklearn (setup.py) ... \u001b[?25l\u001b[?25hdone\n",
            "  Created wheel for sklearn: filename=sklearn-0.0.post1-py3-none-any.whl size=2344 sha256=d753dcd6c9655ae9434492a92cb27d06537eb6f0ee88bb329077ce008a40830f\n",
            "  Stored in directory: /root/.cache/pip/wheels/42/56/cc/4a8bf86613aafd5b7f1b310477667c1fca5c51c3ae4124a003\n",
            "  Building wheel for wget (setup.py) ... \u001b[?25l\u001b[?25hdone\n",
            "  Created wheel for wget: filename=wget-3.2-py3-none-any.whl size=9675 sha256=ff7a580770551d6c6d7fc0dc09d19e24bc7017dc446dba3a0d2d8360d66eb1cd\n",
            "  Stored in directory: /root/.cache/pip/wheels/a1/b6/7c/0e63e34eb06634181c63adacca38b79ff8f35c37e3c13e3c02\n",
            "Successfully built python-terrier ir-measures cwl-eval cbor unlzw3 warc3-wet-clueweb09 chest sklearn wget\n",
            "Installing collected packages: cbor, zlib-state, warc3-wet-clueweb09, warc3-wet, unlzw3, typish, trec-car-tools, pytrec-eval-terrier, pyautocorpus, multiset, lz4, ijson, cwl-eval, wget, sklearn, pyjnius, nptyping, matchpy, ir-measures, ir-datasets, deprecated, chest, python-terrier\n",
            "Successfully installed cbor-1.0.0 chest-0.2.3 cwl-eval-1.0.12 deprecated-1.2.13 ijson-3.1.4 ir-datasets-0.5.4 ir-measures-0.3.1 lz4-4.0.2 matchpy-0.5.5 multiset-2.1.1 nptyping-1.4.4 pyautocorpus-0.1.9 pyjnius-1.4.2 python-terrier-0.9.1 pytrec-eval-terrier-0.5.5 sklearn-0.0.post1 trec-car-tools-2.6 typish-1.9.3 unlzw3-0.2.1 warc3-wet-0.2.3 warc3-wet-clueweb09-0.2.5 wget-3.2 zlib-state-0.1.5\n"
          ]
        }
      ],
      "source": [
        "!pip install python-terrier"
      ]
    },
    {
      "cell_type": "code",
      "source": [
        "import pandas as pd\n",
        "# Helpful for showing indexing information\n",
        "pd.set_option('display.max_colwidth', 150)\n",
        "\n",
        "import pyterrier as pt\n",
        "import os"
      ],
      "metadata": {
        "id": "OVtIkcpTwMUt"
      },
      "execution_count": 2,
      "outputs": []
    },
    {
      "cell_type": "code",
      "source": [
        "if not pt.started():\n",
        "    pt.init()"
      ],
      "metadata": {
        "colab": {
          "base_uri": "https://localhost:8080/"
        },
        "id": "Xm4cJIMWwQE4",
        "outputId": "f8d3c143-9f25-47f7-87fc-4e4acc0db30f"
      },
      "execution_count": 3,
      "outputs": [
        {
          "output_type": "stream",
          "name": "stdout",
          "text": [
            "terrier-assemblies 5.7 jar-with-dependencies not found, downloading to /root/.pyterrier...\n",
            "Done\n",
            "terrier-python-helper 0.0.7 jar not found, downloading to /root/.pyterrier...\n",
            "Done\n"
          ]
        },
        {
          "output_type": "stream",
          "name": "stderr",
          "text": [
            "PyTerrier 0.9.1 has loaded Terrier 5.7 (built by craigm on 2022-11-10 18:30) and terrier-helper 0.0.7\n",
            "\n"
          ]
        }
      ]
    },
    {
      "cell_type": "code",
      "source": [
        "df = pd.read_csv('amazon_data.csv', usecols=[\"productTitle\", \"productDescription\", \"URL\"], header=0)\n",
        "df['docno'] = 'd' + (df.reset_index().index).astype(str)\n",
        "# df.columns = [\"productTitle\", \"productDescription\", \"docno\"] \n",
        "df['text'] = df[['productTitle', 'productDescription']].apply(lambda x: ' '.join(x[x.notnull()]), axis = 1)\n",
        "print(df.head(5))"
      ],
      "metadata": {
        "colab": {
          "base_uri": "https://localhost:8080/"
        },
        "id": "Ro-bT3wfwV12",
        "outputId": "e2211599-4f8c-4a7d-8e30-3a51101ffff0"
      },
      "execution_count": 9,
      "outputs": [
        {
          "output_type": "stream",
          "name": "stdout",
          "text": [
            "                                                                                                                                            productTitle  \\\n",
            "0                      Eyeshadow Palette by Almay Longlasting Eye Makeup Primer Enriched with Antioxidant Vitamin E Hypoallergenic 010 Brown Eyes 0.1 Oz   \n",
            "1                                      Maybelline New York Shadow Blocks Shadow Blocks Eyeshadow Palette Stacked Eye Shadow Trio 82nd & Park Ave 0.08 oz   \n",
            "2                                                                                                      L.A. Girl Beauty Brick Eyeshadow Nudes 0.42 Ounce   \n",
            "3  Highly Pigmented Eye Makeup Palette  Matte Shimmer Metallic Eyeshadow Pallet Long Lasting Blendable Natural Colors Make Up Eye Shadows Cosmetics G...   \n",
            "4  Urban Decay Naked2 Basics Eyeshadow Palette 6 Taupe & Brown Matte Neutral Shades - Ultra-Blendable Rich Colors with Velvety Texture - Makeup Set I...   \n",
            "\n",
            "                                                                                                                                      productDescription  \\\n",
            "0  Create beautifully enhanced, brighter looking eyes with the Almay Intense i-color Shadow Palette™, a richly pigmented five-shadow assortment exper...   \n",
            "1  Big impact color in a pocket-size hassle free palette: Maybelline New York Shadow Blocks eyeshadow trios stack high-pigment eyeshadow for no-mess ...   \n",
            "2  Four gorgeous must-have eyeshadow palettes filled with a dozen majorly pigmented shades ranging from super wearable looks like nudes to bolder loo...   \n",
            "3                                                                                                                                                    NaN   \n",
            "4                                                                                                                                                    NaN   \n",
            "\n",
            "                                                                                                                                                     URL  \\\n",
            "0  https://www.amazon.com/sspa/click?ie=UTF8&spc=MTo4OTc5Mzc5OTExOTg5NzM5OjE2Njg2MjU3NDA6c3BfYXRmOjIwMDEwNjIwMTQ3MzYzMTo6MDo6&url=%2FAlmay-Enhancing-...   \n",
            "1  https://www.amazon.com/sspa/click?ie=UTF8&spc=MTo4OTc5Mzc5OTExOTg5NzM5OjE2Njg2MjU3NDA6c3BfYXRmOjIwMDA2NDc4MjYwMjU5ODo6MDo6&url=%2FMaybelline-New-Y...   \n",
            "2  https://www.amazon.com/L-Girl-Beauty-Eyeshadow/dp/B00PGQYEUK/ref=sr_1_3?crid=1QJ2Z0KOR688P&keywords=eyeshadow&qid=1668625740&sprefix=eyeshadow%2Ca...   \n",
            "3  https://www.amazon.com/CHANGEABLE-Eyeshadow-Highlight-Waterproof-Makeup/dp/B07MQJRK7N/ref=sr_1_4?crid=1QJ2Z0KOR688P&keywords=eyeshadow&qid=1668625...   \n",
            "4  https://www.amazon.com/Naked2-Basics-Eyeshadow-Palette-Neutral/dp/B07LBLK57Q/ref=sr_1_5?crid=1QJ2Z0KOR688P&keywords=eyeshadow&qid=1668625740&spref...   \n",
            "\n",
            "  docno  \\\n",
            "0    d0   \n",
            "1    d1   \n",
            "2    d2   \n",
            "3    d3   \n",
            "4    d4   \n",
            "\n",
            "                                                                                                                                                    text  \n",
            "0  Eyeshadow Palette by Almay Longlasting Eye Makeup Primer Enriched with Antioxidant Vitamin E Hypoallergenic 010 Brown Eyes 0.1 Oz Create beautiful...  \n",
            "1  Maybelline New York Shadow Blocks Shadow Blocks Eyeshadow Palette Stacked Eye Shadow Trio 82nd & Park Ave 0.08 oz Big impact color in a pocket-siz...  \n",
            "2  L.A. Girl Beauty Brick Eyeshadow Nudes 0.42 Ounce Four gorgeous must-have eyeshadow palettes filled with a dozen majorly pigmented shades ranging ...  \n",
            "3  Highly Pigmented Eye Makeup Palette  Matte Shimmer Metallic Eyeshadow Pallet Long Lasting Blendable Natural Colors Make Up Eye Shadows Cosmetics G...  \n",
            "4  Urban Decay Naked2 Basics Eyeshadow Palette 6 Taupe & Brown Matte Neutral Shades - Ultra-Blendable Rich Colors with Velvety Texture - Makeup Set I...  \n"
          ]
        }
      ]
    },
    {
      "cell_type": "code",
      "source": [
        "index_dir = os.path.abspath('amazonindex')\n",
        "indexer = pt.DFIndexer(index_dir, overwrite=True)\n",
        "index_ref = indexer.index(df[\"text\"], df[\"docno\"], )\n",
        "index_ref.toString()"
      ],
      "metadata": {
        "id": "22L7qHIJwcxp",
        "colab": {
          "base_uri": "https://localhost:8080/",
          "height": 90
        },
        "outputId": "1d39574d-1565-4390-8906-7925f0207599"
      },
      "execution_count": 10,
      "outputs": [
        {
          "output_type": "stream",
          "name": "stdout",
          "text": [
            "05:24:07.119 [main] WARN org.terrier.structures.indexing.Indexer - Adding an empty document to the index (d69) - further warnings are suppressed\n",
            "05:24:08.878 [main] WARN org.terrier.structures.indexing.Indexer - Indexed 505 empty documents\n"
          ]
        },
        {
          "output_type": "execute_result",
          "data": {
            "text/plain": [
              "'/content/amazonindex/data.properties'"
            ],
            "application/vnd.google.colaboratory.intrinsic+json": {
              "type": "string"
            }
          },
          "metadata": {},
          "execution_count": 10
        }
      ]
    },
    {
      "cell_type": "code",
      "source": [
        "index = pt.IndexFactory.of(index_ref)"
      ],
      "metadata": {
        "id": "h-O7isfuycm0"
      },
      "execution_count": 11,
      "outputs": []
    },
    {
      "cell_type": "code",
      "source": [
        "print(index.getCollectionStatistics().toString())"
      ],
      "metadata": {
        "colab": {
          "base_uri": "https://localhost:8080/"
        },
        "id": "ptEoSPceyeSJ",
        "outputId": "4feeef64-8d5f-47d0-dab3-45ec04076ade"
      },
      "execution_count": 12,
      "outputs": [
        {
          "output_type": "stream",
          "name": "stdout",
          "text": [
            "Number of documents: 903\n",
            "Number of terms: 2037\n",
            "Number of postings: 10969\n",
            "Number of fields: 0\n",
            "Number of tokens: 13598\n",
            "Field names: []\n",
            "Positions:   false\n",
            "\n"
          ]
        }
      ]
    },
    {
      "cell_type": "code",
      "source": [
        "br_bm25 = pt.BatchRetrieve(index, wmodel=\"BM25\")\n",
        "br_bm25.search(\"Maybelline\")\n",
        "br_tfidf = pt.BatchRetrieve(index, wmodel=\"TF_IDF\")\n",
        "br_pl2 = pt.BatchRetrieve(index, wmodel=\"PL2\")"
      ],
      "metadata": {
        "id": "SGOLtnTryzkP"
      },
      "execution_count": 13,
      "outputs": []
    },
    {
      "cell_type": "code",
      "source": [
        "qdf = pd.read_csv(\"queries.csv\", usecols=['qid', 'query'], header=0)\n",
        "print(qdf)"
      ],
      "metadata": {
        "id": "uYfZRQWX93z8",
        "colab": {
          "base_uri": "https://localhost:8080/"
        },
        "outputId": "95b7476d-3e57-40e2-fc2d-b4bf34cd3696"
      },
      "execution_count": 14,
      "outputs": [
        {
          "output_type": "stream",
          "name": "stdout",
          "text": [
            "    qid                             query\n",
            "0     1              smudge free eyeliner\n",
            "1     2    moisturiser for sensitive skin\n",
            "2     3          all skin type foundation\n",
            "3     4         cruelty free lipstick red\n",
            "4     5                  smudge free kohl\n",
            "5     6               waterproof lipstick\n",
            "6     7   all in one foundation concealer\n",
            "7     8      soft nudes eyeshadow palette\n",
            "8     9                red nailpaints set\n",
            "9    10             long lasting lipstick\n",
            "10   11  eyebrow pencil set multiple size\n",
            "11   12             smudge free nailpaint\n",
            "12   13          highlighting moisturizer\n",
            "13   14           smoky eyeshadow palette\n",
            "14   15       best bridal makeup products\n",
            "15   16     bronzer palette for dark skin\n",
            "16   17               light blush palette\n",
            "17   18              cruelty free mascara\n",
            "18   19         mascara eyeliner kohl set\n",
            "19   20                   full makeup set\n"
          ]
        }
      ]
    },
    {
      "cell_type": "code",
      "source": [
        "res_bm25 = br_bm25(qdf)\n",
        "mres_bm25 = res_bm25.groupby('qid').head(50)\n",
        "\n",
        "res_tfidf = br_tfidf(qdf)\n",
        "mres_tfidf = res_tfidf.groupby('qid').head(50)\n",
        "\n",
        "res_pl2 = br_pl2(qdf)\n",
        "mres_pl2 = res_pl2.groupby('qid').head(50)"
      ],
      "metadata": {
        "id": "-oMHbTcW-Ie9"
      },
      "execution_count": 15,
      "outputs": []
    },
    {
      "cell_type": "code",
      "source": [
        "newdf = pd.concat([mres_bm25,mres_tfidf,mres_pl2]).drop_duplicates(subset = ['docno', 'query'],\n",
        "  keep = 'last').reset_index(drop=True)"
      ],
      "metadata": {
        "id": "4uF0hBa4nEuN"
      },
      "execution_count": 16,
      "outputs": []
    },
    {
      "cell_type": "code",
      "source": [
        "print(newdf)"
      ],
      "metadata": {
        "colab": {
          "base_uri": "https://localhost:8080/"
        },
        "id": "E6wKsNWnJ4N7",
        "outputId": "d0b6d50f-633c-4cb6-eb18-d6878a262c64"
      },
      "execution_count": 17,
      "outputs": [
        {
          "output_type": "stream",
          "name": "stdout",
          "text": [
            "     qid  docid docno  rank     score                            query\n",
            "0      5    291  d291    48  2.926679                 smudge free kohl\n",
            "1      5    353  d353    49  2.926679                 smudge free kohl\n",
            "2      7    182  d182    49  3.874830  all in one foundation concealer\n",
            "3     15      2    d2    38  2.997432      best bridal makeup products\n",
            "4     20    242  d242    49  3.758191                  full makeup set\n",
            "...   ..    ...   ...   ...       ...                              ...\n",
            "1045  20    867  d867    45  2.125177                  full makeup set\n",
            "1046  20     56   d56    46  2.071672                  full makeup set\n",
            "1047  20    100  d100    47  2.063838                  full makeup set\n",
            "1048  20    655  d655    48  1.834009                  full makeup set\n",
            "1049  20     72   d72    49  1.828804                  full makeup set\n",
            "\n",
            "[1050 rows x 6 columns]\n"
          ]
        }
      ]
    },
    {
      "cell_type": "code",
      "source": [
        "newdf.to_csv('results.csv',index=False,columns=['query','docno'])"
      ],
      "metadata": {
        "id": "66Ry2oaTn95J"
      },
      "execution_count": 18,
      "outputs": []
    },
    {
      "cell_type": "code",
      "source": [
        "df.to_csv('reference.csv',index=False,columns=['docno','URL', 'text'])"
      ],
      "metadata": {
        "id": "GM6Is0EvC_Rm"
      },
      "execution_count": 19,
      "outputs": []
    }
  ]
}